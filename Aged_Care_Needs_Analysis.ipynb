{
 "cells": [
  {
   "cell_type": "markdown",
   "metadata": {},
   "source": [
    "# Aged Care - Needs analysis\n",
    "- Data source: https://www.gen-agedcaredata.gov.au/resources/access-data/2024/august/gen-data-care-needs-of-people-in-aged-care"
   ]
  },
  {
   "cell_type": "code",
   "execution_count": 1,
   "metadata": {},
   "outputs": [],
   "source": [
    "# Install libraries\n",
    "import pandas as pd\n",
    "import matplotlib.pyplot as plt"
   ]
  },
  {
   "cell_type": "markdown",
   "metadata": {},
   "source": [
    "# Load data\n",
    "- First approach - \n",
    "    - I read all the data files seperately - df_2008_12, df_13_17, df_18, df_19, df_20, df_21, df_22, df_23\n",
    "    - Then I saw that df_23 column names are different from the rest, so it would be problematic when combining. \n",
    "    - So "
   ]
  },
  {
   "cell_type": "markdown",
   "metadata": {},
   "source": [
    "### File 1"
   ]
  },
  {
   "cell_type": "code",
   "execution_count": 2,
   "metadata": {},
   "outputs": [
    {
     "data": {
      "text/html": [
       "<div>\n",
       "<style scoped>\n",
       "    .dataframe tbody tr th:only-of-type {\n",
       "        vertical-align: middle;\n",
       "    }\n",
       "\n",
       "    .dataframe tbody tr th {\n",
       "        vertical-align: top;\n",
       "    }\n",
       "\n",
       "    .dataframe thead th {\n",
       "        text-align: right;\n",
       "    }\n",
       "</style>\n",
       "<table border=\"1\" class=\"dataframe\">\n",
       "  <thead>\n",
       "    <tr style=\"text-align: right;\">\n",
       "      <th></th>\n",
       "      <th>YEAR</th>\n",
       "      <th>STATE</th>\n",
       "      <th>AGE_GROUP</th>\n",
       "      <th>SEX</th>\n",
       "      <th>ADL</th>\n",
       "      <th>BEH</th>\n",
       "      <th>CHC</th>\n",
       "      <th>LAN</th>\n",
       "    </tr>\n",
       "  </thead>\n",
       "  <tbody>\n",
       "    <tr>\n",
       "      <th>0</th>\n",
       "      <td>2008</td>\n",
       "      <td>NSW</td>\n",
       "      <td>80–89</td>\n",
       "      <td>M</td>\n",
       "      <td>L</td>\n",
       "      <td>N</td>\n",
       "      <td>N</td>\n",
       "      <td>English</td>\n",
       "    </tr>\n",
       "    <tr>\n",
       "      <th>1</th>\n",
       "      <td>2008</td>\n",
       "      <td>Vic</td>\n",
       "      <td>80–89</td>\n",
       "      <td>F</td>\n",
       "      <td>H</td>\n",
       "      <td>H</td>\n",
       "      <td>L</td>\n",
       "      <td>English</td>\n",
       "    </tr>\n",
       "    <tr>\n",
       "      <th>2</th>\n",
       "      <td>2008</td>\n",
       "      <td>WA</td>\n",
       "      <td>80–89</td>\n",
       "      <td>F</td>\n",
       "      <td>L</td>\n",
       "      <td>L</td>\n",
       "      <td>L</td>\n",
       "      <td>English</td>\n",
       "    </tr>\n",
       "    <tr>\n",
       "      <th>3</th>\n",
       "      <td>2008</td>\n",
       "      <td>Tas</td>\n",
       "      <td>80–89</td>\n",
       "      <td>M</td>\n",
       "      <td>H</td>\n",
       "      <td>H</td>\n",
       "      <td>H</td>\n",
       "      <td>English</td>\n",
       "    </tr>\n",
       "    <tr>\n",
       "      <th>4</th>\n",
       "      <td>2008</td>\n",
       "      <td>WA</td>\n",
       "      <td>80–89</td>\n",
       "      <td>M</td>\n",
       "      <td>M</td>\n",
       "      <td>L</td>\n",
       "      <td>L</td>\n",
       "      <td>Other languages</td>\n",
       "    </tr>\n",
       "  </tbody>\n",
       "</table>\n",
       "</div>"
      ],
      "text/plain": [
       "   YEAR STATE AGE_GROUP SEX ADL BEH CHC              LAN\n",
       "0  2008   NSW     80–89   M   L   N   N          English\n",
       "1  2008   Vic     80–89   F   H   H   L          English\n",
       "2  2008    WA     80–89   F   L   L   L          English\n",
       "3  2008   Tas     80–89   M   H   H   H          English\n",
       "4  2008    WA     80–89   M   M   L   L  Other languages"
      ]
     },
     "execution_count": 2,
     "metadata": {},
     "output_type": "execute_result"
    }
   ],
   "source": [
    "file_path = 'C:/Iresha_Code/ML_my_projects/Aged_care/CareNeeds_2007_08to2011_12_GENdata.csv'\n",
    "\n",
    "# Load the CSV file into a pandas DataFrame\n",
    "df_2008_12 = pd.read_csv(file_path)\n",
    "\n",
    "df_2008_12.head()"
   ]
  },
  {
   "cell_type": "markdown",
   "metadata": {},
   "source": []
  },
  {
   "cell_type": "code",
   "execution_count": null,
   "metadata": {},
   "outputs": [
    {
     "data": {
      "text/plain": [
       "YEAR         5\n",
       "STATE        8\n",
       "AGE_GROUP    7\n",
       "SEX          2\n",
       "ADL          4\n",
       "BEH          4\n",
       "CHC          4\n",
       "LAN          3\n",
       "dtype: int64"
      ]
     },
     "execution_count": 9,
     "metadata": {},
     "output_type": "execute_result"
    }
   ],
   "source": [
    "# Number of unique values\n",
    "df_2008_12.nunique()"
   ]
  },
  {
   "cell_type": "code",
   "execution_count": null,
   "metadata": {},
   "outputs": [
    {
     "name": "stdout",
     "output_type": "stream",
     "text": [
      "Column: YEAR\n",
      "[2008 2009 2010 2011 2012]\n",
      "\n",
      "Column: STATE\n",
      "['NSW' 'Vic' 'WA' 'Tas' 'SA' 'Qld' 'ACT' 'NT' nan]\n",
      "\n",
      "Column: AGE_GROUP\n",
      "['80–89' '60–69' '90–99' '70–79' '0–49' '50–59' '100+']\n",
      "\n",
      "Column: SEX\n",
      "['M' 'F']\n",
      "\n",
      "Column: ADL\n",
      "['L' 'H' 'M' 'N']\n",
      "\n",
      "Column: BEH\n",
      "['N' 'H' 'L' 'M']\n",
      "\n",
      "Column: CHC\n",
      "['N' 'L' 'H' 'M']\n",
      "\n",
      "Column: LAN\n",
      "['English' 'Other languages' 'Not stated / inadequately described' nan]\n",
      "\n"
     ]
    }
   ],
   "source": [
    "# Unique values\n",
    "for column in df_2008_12.columns:\n",
    "    print(f\"Column: {column}\")\n",
    "    print(df_2008_12[column].unique())  # Display unique values\n",
    "    print()  # Add a blank line for better readability"
   ]
  },
  {
   "cell_type": "code",
   "execution_count": null,
   "metadata": {},
   "outputs": [
    {
     "name": "stdout",
     "output_type": "stream",
     "text": [
      "YEAR\n",
      "2012    166472\n",
      "2011    164473\n",
      "2010    162010\n",
      "2009    158015\n",
      "2008     47931\n",
      "Name: count, dtype: int64\n"
     ]
    }
   ],
   "source": [
    "unique_value_counts = df_2008_12['YEAR'].value_counts()\n",
    "\n",
    "# Display the result\n",
    "print(unique_value_counts)"
   ]
  },
  {
   "cell_type": "markdown",
   "metadata": {},
   "source": [
    "### File 2"
   ]
  },
  {
   "cell_type": "code",
   "execution_count": null,
   "metadata": {},
   "outputs": [
    {
     "data": {
      "text/html": [
       "<div>\n",
       "<style scoped>\n",
       "    .dataframe tbody tr th:only-of-type {\n",
       "        vertical-align: middle;\n",
       "    }\n",
       "\n",
       "    .dataframe tbody tr th {\n",
       "        vertical-align: top;\n",
       "    }\n",
       "\n",
       "    .dataframe thead th {\n",
       "        text-align: right;\n",
       "    }\n",
       "</style>\n",
       "<table border=\"1\" class=\"dataframe\">\n",
       "  <thead>\n",
       "    <tr style=\"text-align: right;\">\n",
       "      <th></th>\n",
       "      <th>YEAR</th>\n",
       "      <th>STATE</th>\n",
       "      <th>AGE_GROUP</th>\n",
       "      <th>SEX</th>\n",
       "      <th>ADL</th>\n",
       "      <th>BEH</th>\n",
       "      <th>CHC</th>\n",
       "      <th>LAN</th>\n",
       "    </tr>\n",
       "  </thead>\n",
       "  <tbody>\n",
       "    <tr>\n",
       "      <th>0</th>\n",
       "      <td>2013</td>\n",
       "      <td>SA</td>\n",
       "      <td>90–99</td>\n",
       "      <td>M</td>\n",
       "      <td>M</td>\n",
       "      <td>N</td>\n",
       "      <td>H</td>\n",
       "      <td>English</td>\n",
       "    </tr>\n",
       "    <tr>\n",
       "      <th>1</th>\n",
       "      <td>2013</td>\n",
       "      <td>NSW</td>\n",
       "      <td>90–99</td>\n",
       "      <td>F</td>\n",
       "      <td>N</td>\n",
       "      <td>L</td>\n",
       "      <td>N</td>\n",
       "      <td>English</td>\n",
       "    </tr>\n",
       "    <tr>\n",
       "      <th>2</th>\n",
       "      <td>2013</td>\n",
       "      <td>Qld</td>\n",
       "      <td>100+</td>\n",
       "      <td>F</td>\n",
       "      <td>H</td>\n",
       "      <td>M</td>\n",
       "      <td>M</td>\n",
       "      <td>English</td>\n",
       "    </tr>\n",
       "    <tr>\n",
       "      <th>3</th>\n",
       "      <td>2013</td>\n",
       "      <td>SA</td>\n",
       "      <td>80–89</td>\n",
       "      <td>F</td>\n",
       "      <td>M</td>\n",
       "      <td>H</td>\n",
       "      <td>H</td>\n",
       "      <td>English</td>\n",
       "    </tr>\n",
       "    <tr>\n",
       "      <th>4</th>\n",
       "      <td>2013</td>\n",
       "      <td>NSW</td>\n",
       "      <td>90–99</td>\n",
       "      <td>F</td>\n",
       "      <td>H</td>\n",
       "      <td>H</td>\n",
       "      <td>H</td>\n",
       "      <td>English</td>\n",
       "    </tr>\n",
       "  </tbody>\n",
       "</table>\n",
       "</div>"
      ],
      "text/plain": [
       "   YEAR STATE AGE_GROUP SEX ADL BEH CHC      LAN\n",
       "0  2013    SA     90–99   M   M   N   H  English\n",
       "1  2013   NSW     90–99   F   N   L   N  English\n",
       "2  2013   Qld      100+   F   H   M   M  English\n",
       "3  2013    SA     80–89   F   M   H   H  English\n",
       "4  2013   NSW     90–99   F   H   H   H  English"
      ]
     },
     "execution_count": 13,
     "metadata": {},
     "output_type": "execute_result"
    }
   ],
   "source": [
    "file_path = 'C:/Iresha_Code/ML_my_projects/Aged_care/CareNeeds_2012_13to2016_17_GENdata.csv'\n",
    "\n",
    "# Load the CSV file into a pandas DataFrame\n",
    "df_13_17 = pd.read_csv(file_path)\n",
    "\n",
    "df_13_17.head()"
   ]
  },
  {
   "cell_type": "code",
   "execution_count": null,
   "metadata": {},
   "outputs": [
    {
     "data": {
      "text/plain": [
       "YEAR         5\n",
       "STATE        8\n",
       "AGE_GROUP    7\n",
       "SEX          2\n",
       "ADL          4\n",
       "BEH          4\n",
       "CHC          4\n",
       "LAN          3\n",
       "dtype: int64"
      ]
     },
     "execution_count": 14,
     "metadata": {},
     "output_type": "execute_result"
    }
   ],
   "source": [
    "# Number of unique values\n",
    "df_13_17.nunique()"
   ]
  },
  {
   "cell_type": "code",
   "execution_count": null,
   "metadata": {},
   "outputs": [
    {
     "name": "stdout",
     "output_type": "stream",
     "text": [
      "Column: YEAR\n",
      "[2013 2014 2015 2016 2017]\n",
      "\n",
      "Column: STATE\n",
      "['SA' 'NSW' 'Qld' 'Vic' 'WA' 'ACT' 'Tas' 'NT' nan]\n",
      "\n",
      "Column: AGE_GROUP\n",
      "['90–99' '100+' '80–89' '70–79' '60–69' '50–59' '0–49']\n",
      "\n",
      "Column: SEX\n",
      "['M' 'F']\n",
      "\n",
      "Column: ADL\n",
      "['M' 'N' 'H' 'L']\n",
      "\n",
      "Column: BEH\n",
      "['N' 'L' 'M' 'H']\n",
      "\n",
      "Column: CHC\n",
      "['H' 'N' 'M' 'L']\n",
      "\n",
      "Column: LAN\n",
      "['English' 'Other languages' 'Not stated / inadequately described' nan]\n",
      "\n"
     ]
    }
   ],
   "source": [
    "# Unique values\n",
    "for column in df_13_17.columns:\n",
    "    print(f\"Column: {column}\")\n",
    "    print(df_13_17[column].unique())  # Display unique values\n",
    "    print()  # Add a blank line for better readability"
   ]
  },
  {
   "cell_type": "code",
   "execution_count": null,
   "metadata": {},
   "outputs": [
    {
     "name": "stdout",
     "output_type": "stream",
     "text": [
      "YEAR\n",
      "2017    177589\n",
      "2016    175501\n",
      "2014    173357\n",
      "2015    171609\n",
      "2013    168363\n",
      "Name: count, dtype: int64\n"
     ]
    }
   ],
   "source": [
    "unique_value_counts = df_13_17['YEAR'].value_counts()\n",
    "\n",
    "# Display the result\n",
    "print(unique_value_counts)"
   ]
  },
  {
   "cell_type": "markdown",
   "metadata": {},
   "source": [
    "### File 3"
   ]
  },
  {
   "cell_type": "code",
   "execution_count": null,
   "metadata": {},
   "outputs": [
    {
     "data": {
      "text/html": [
       "<div>\n",
       "<style scoped>\n",
       "    .dataframe tbody tr th:only-of-type {\n",
       "        vertical-align: middle;\n",
       "    }\n",
       "\n",
       "    .dataframe tbody tr th {\n",
       "        vertical-align: top;\n",
       "    }\n",
       "\n",
       "    .dataframe thead th {\n",
       "        text-align: right;\n",
       "    }\n",
       "</style>\n",
       "<table border=\"1\" class=\"dataframe\">\n",
       "  <thead>\n",
       "    <tr style=\"text-align: right;\">\n",
       "      <th></th>\n",
       "      <th>YEAR</th>\n",
       "      <th>STATE</th>\n",
       "      <th>AGE_GROUP</th>\n",
       "      <th>sex</th>\n",
       "      <th>ADL</th>\n",
       "      <th>BEH</th>\n",
       "      <th>CHC</th>\n",
       "      <th>LAN</th>\n",
       "    </tr>\n",
       "  </thead>\n",
       "  <tbody>\n",
       "    <tr>\n",
       "      <th>0</th>\n",
       "      <td>2018</td>\n",
       "      <td>Qld</td>\n",
       "      <td>60–69</td>\n",
       "      <td>F</td>\n",
       "      <td>H</td>\n",
       "      <td>H</td>\n",
       "      <td>L</td>\n",
       "      <td>English</td>\n",
       "    </tr>\n",
       "    <tr>\n",
       "      <th>1</th>\n",
       "      <td>2018</td>\n",
       "      <td>NSW</td>\n",
       "      <td>0–49</td>\n",
       "      <td>M</td>\n",
       "      <td>H</td>\n",
       "      <td>M</td>\n",
       "      <td>L</td>\n",
       "      <td>English</td>\n",
       "    </tr>\n",
       "    <tr>\n",
       "      <th>2</th>\n",
       "      <td>2018</td>\n",
       "      <td>Qld</td>\n",
       "      <td>70–79</td>\n",
       "      <td>M</td>\n",
       "      <td>H</td>\n",
       "      <td>H</td>\n",
       "      <td>H</td>\n",
       "      <td>English</td>\n",
       "    </tr>\n",
       "    <tr>\n",
       "      <th>3</th>\n",
       "      <td>2018</td>\n",
       "      <td>NSW</td>\n",
       "      <td>70–79</td>\n",
       "      <td>F</td>\n",
       "      <td>H</td>\n",
       "      <td>H</td>\n",
       "      <td>L</td>\n",
       "      <td>English</td>\n",
       "    </tr>\n",
       "    <tr>\n",
       "      <th>4</th>\n",
       "      <td>2018</td>\n",
       "      <td>NSW</td>\n",
       "      <td>80–89</td>\n",
       "      <td>M</td>\n",
       "      <td>M</td>\n",
       "      <td>H</td>\n",
       "      <td>L</td>\n",
       "      <td>English</td>\n",
       "    </tr>\n",
       "  </tbody>\n",
       "</table>\n",
       "</div>"
      ],
      "text/plain": [
       "   YEAR STATE AGE_GROUP sex ADL BEH CHC      LAN\n",
       "0  2018   Qld     60–69   F   H   H   L  English\n",
       "1  2018   NSW      0–49   M   H   M   L  English\n",
       "2  2018   Qld     70–79   M   H   H   H  English\n",
       "3  2018   NSW     70–79   F   H   H   L  English\n",
       "4  2018   NSW     80–89   M   M   H   L  English"
      ]
     },
     "execution_count": 18,
     "metadata": {},
     "output_type": "execute_result"
    }
   ],
   "source": [
    "file_path = 'C:/Iresha_Code/ML_my_projects/Aged_care/Care needs of people in residential care_2017_18.csv'\n",
    "\n",
    "# Load the CSV file into a pandas DataFrame\n",
    "df_18 = pd.read_csv(file_path)\n",
    "\n",
    "df_18.head()"
   ]
  },
  {
   "cell_type": "code",
   "execution_count": null,
   "metadata": {},
   "outputs": [],
   "source": [
    "# Rename columns\n",
    "df_18.rename(columns={'sex': 'SEX'}, inplace=True)"
   ]
  },
  {
   "cell_type": "code",
   "execution_count": null,
   "metadata": {},
   "outputs": [
    {
     "data": {
      "text/plain": [
       "YEAR         1\n",
       "STATE        8\n",
       "AGE_GROUP    7\n",
       "SEX          2\n",
       "ADL          4\n",
       "BEH          4\n",
       "CHC          4\n",
       "LAN          3\n",
       "dtype: int64"
      ]
     },
     "execution_count": 20,
     "metadata": {},
     "output_type": "execute_result"
    }
   ],
   "source": [
    "# Number of unique values\n",
    "df_18.nunique()"
   ]
  },
  {
   "cell_type": "code",
   "execution_count": null,
   "metadata": {},
   "outputs": [
    {
     "name": "stdout",
     "output_type": "stream",
     "text": [
      "Column: YEAR\n",
      "[2018]\n",
      "\n",
      "Column: STATE\n",
      "['Qld' 'NSW' 'Vic' 'ACT' 'SA' 'WA' 'Tas' 'NT']\n",
      "\n",
      "Column: AGE_GROUP\n",
      "['60–69' '0–49' '70–79' '80–89' '50–59' '90–99' '100+']\n",
      "\n",
      "Column: SEX\n",
      "['F' 'M']\n",
      "\n",
      "Column: ADL\n",
      "['H' 'M' 'L' 'N']\n",
      "\n",
      "Column: BEH\n",
      "['H' 'M' 'L' 'N']\n",
      "\n",
      "Column: CHC\n",
      "['L' 'H' 'M' 'N']\n",
      "\n",
      "Column: LAN\n",
      "['English' 'Other languages' 'Not stated / inadequately described']\n",
      "\n"
     ]
    }
   ],
   "source": [
    "# Unique values\n",
    "for column in df_18.columns:\n",
    "    print(f\"Column: {column}\")\n",
    "    print(df_18[column].unique())  # Display unique values\n",
    "    print()  # Add a blank line for better readability"
   ]
  },
  {
   "cell_type": "code",
   "execution_count": null,
   "metadata": {},
   "outputs": [
    {
     "name": "stdout",
     "output_type": "stream",
     "text": [
      "YEAR\n",
      "2018    180086\n",
      "Name: count, dtype: int64\n"
     ]
    }
   ],
   "source": [
    "unique_value_counts = df_18['YEAR'].value_counts()\n",
    "\n",
    "# Display the result\n",
    "print(unique_value_counts)"
   ]
  },
  {
   "cell_type": "markdown",
   "metadata": {},
   "source": [
    "### File 4"
   ]
  },
  {
   "cell_type": "code",
   "execution_count": null,
   "metadata": {},
   "outputs": [
    {
     "data": {
      "text/html": [
       "<div>\n",
       "<style scoped>\n",
       "    .dataframe tbody tr th:only-of-type {\n",
       "        vertical-align: middle;\n",
       "    }\n",
       "\n",
       "    .dataframe tbody tr th {\n",
       "        vertical-align: top;\n",
       "    }\n",
       "\n",
       "    .dataframe thead th {\n",
       "        text-align: right;\n",
       "    }\n",
       "</style>\n",
       "<table border=\"1\" class=\"dataframe\">\n",
       "  <thead>\n",
       "    <tr style=\"text-align: right;\">\n",
       "      <th></th>\n",
       "      <th>YEAR</th>\n",
       "      <th>STATE</th>\n",
       "      <th>AGE_GROUP</th>\n",
       "      <th>sex</th>\n",
       "      <th>ADL</th>\n",
       "      <th>BEH</th>\n",
       "      <th>CHC</th>\n",
       "      <th>LAN</th>\n",
       "    </tr>\n",
       "  </thead>\n",
       "  <tbody>\n",
       "    <tr>\n",
       "      <th>0</th>\n",
       "      <td>2019</td>\n",
       "      <td>Qld</td>\n",
       "      <td>60–69</td>\n",
       "      <td>F</td>\n",
       "      <td>H</td>\n",
       "      <td>H</td>\n",
       "      <td>L</td>\n",
       "      <td>English</td>\n",
       "    </tr>\n",
       "    <tr>\n",
       "      <th>1</th>\n",
       "      <td>2019</td>\n",
       "      <td>NSW</td>\n",
       "      <td>0–49</td>\n",
       "      <td>M</td>\n",
       "      <td>H</td>\n",
       "      <td>M</td>\n",
       "      <td>L</td>\n",
       "      <td>English</td>\n",
       "    </tr>\n",
       "    <tr>\n",
       "      <th>2</th>\n",
       "      <td>2019</td>\n",
       "      <td>NSW</td>\n",
       "      <td>70–79</td>\n",
       "      <td>F</td>\n",
       "      <td>H</td>\n",
       "      <td>H</td>\n",
       "      <td>H</td>\n",
       "      <td>English</td>\n",
       "    </tr>\n",
       "    <tr>\n",
       "      <th>3</th>\n",
       "      <td>2019</td>\n",
       "      <td>NSW</td>\n",
       "      <td>80–89</td>\n",
       "      <td>M</td>\n",
       "      <td>M</td>\n",
       "      <td>H</td>\n",
       "      <td>L</td>\n",
       "      <td>English</td>\n",
       "    </tr>\n",
       "    <tr>\n",
       "      <th>4</th>\n",
       "      <td>2019</td>\n",
       "      <td>NSW</td>\n",
       "      <td>70–79</td>\n",
       "      <td>F</td>\n",
       "      <td>H</td>\n",
       "      <td>H</td>\n",
       "      <td>H</td>\n",
       "      <td>English</td>\n",
       "    </tr>\n",
       "  </tbody>\n",
       "</table>\n",
       "</div>"
      ],
      "text/plain": [
       "   YEAR STATE AGE_GROUP sex ADL BEH CHC      LAN\n",
       "0  2019   Qld     60–69   F   H   H   L  English\n",
       "1  2019   NSW     0–49    M   H   M   L  English\n",
       "2  2019   NSW     70–79   F   H   H   H  English\n",
       "3  2019   NSW     80–89   M   M   H   L  English\n",
       "4  2019   NSW     70–79   F   H   H   H  English"
      ]
     },
     "execution_count": 24,
     "metadata": {},
     "output_type": "execute_result"
    }
   ],
   "source": [
    "file_path = 'C:/Iresha_Code/ML_my_projects/Aged_care/Care needs data 2019 CURF.xlsx'\n",
    "\n",
    "# Load the CSV file into a pandas DataFrame\n",
    "df_19 = pd.read_excel(file_path)\n",
    "\n",
    "df_19.head()"
   ]
  },
  {
   "cell_type": "code",
   "execution_count": null,
   "metadata": {},
   "outputs": [],
   "source": [
    "# Rename columns\n",
    "df_19.rename(columns={'sex': 'SEX'}, inplace=True)"
   ]
  },
  {
   "cell_type": "code",
   "execution_count": null,
   "metadata": {},
   "outputs": [
    {
     "data": {
      "text/plain": [
       "YEAR         1\n",
       "STATE        8\n",
       "AGE_GROUP    7\n",
       "SEX          2\n",
       "ADL          4\n",
       "BEH          4\n",
       "CHC          4\n",
       "LAN          3\n",
       "dtype: int64"
      ]
     },
     "execution_count": 26,
     "metadata": {},
     "output_type": "execute_result"
    }
   ],
   "source": [
    "# Number of unique values\n",
    "df_19.nunique()"
   ]
  },
  {
   "cell_type": "code",
   "execution_count": null,
   "metadata": {},
   "outputs": [
    {
     "name": "stdout",
     "output_type": "stream",
     "text": [
      "Column: YEAR\n",
      "[2019]\n",
      "\n",
      "Column: STATE\n",
      "['Qld' 'NSW' 'Vic' 'ACT' 'SA ' 'WA ' 'Tas' 'NT ']\n",
      "\n",
      "Column: AGE_GROUP\n",
      "['60–69' '0–49 ' '70–79' '80–89' '50–59' '90–99' '100+ ']\n",
      "\n",
      "Column: SEX\n",
      "['F' 'M']\n",
      "\n",
      "Column: ADL\n",
      "['H' 'M' 'L' 'N']\n",
      "\n",
      "Column: BEH\n",
      "['H' 'M' 'L' 'N']\n",
      "\n",
      "Column: CHC\n",
      "['L' 'H' 'M' 'N']\n",
      "\n",
      "Column: LAN\n",
      "['English' 'Other languages' 'Not stated / inadequately described']\n",
      "\n"
     ]
    }
   ],
   "source": [
    "# Unique values\n",
    "for column in df_19.columns:\n",
    "    print(f\"Column: {column}\")\n",
    "    print(df_19[column].unique())  # Display unique values\n",
    "    print()  # Add a blank line for better readability"
   ]
  },
  {
   "cell_type": "code",
   "execution_count": null,
   "metadata": {},
   "outputs": [
    {
     "name": "stdout",
     "output_type": "stream",
     "text": [
      "YEAR\n",
      "2019    182394\n",
      "Name: count, dtype: int64\n"
     ]
    }
   ],
   "source": [
    "unique_value_counts = df_19['YEAR'].value_counts()\n",
    "\n",
    "# Display the result\n",
    "print(unique_value_counts)"
   ]
  },
  {
   "cell_type": "markdown",
   "metadata": {},
   "source": [
    "### File 5"
   ]
  },
  {
   "cell_type": "code",
   "execution_count": null,
   "metadata": {},
   "outputs": [
    {
     "data": {
      "text/html": [
       "<div>\n",
       "<style scoped>\n",
       "    .dataframe tbody tr th:only-of-type {\n",
       "        vertical-align: middle;\n",
       "    }\n",
       "\n",
       "    .dataframe tbody tr th {\n",
       "        vertical-align: top;\n",
       "    }\n",
       "\n",
       "    .dataframe thead th {\n",
       "        text-align: right;\n",
       "    }\n",
       "</style>\n",
       "<table border=\"1\" class=\"dataframe\">\n",
       "  <thead>\n",
       "    <tr style=\"text-align: right;\">\n",
       "      <th></th>\n",
       "      <th>Year</th>\n",
       "      <th>State</th>\n",
       "      <th>Age_group</th>\n",
       "      <th>Sex</th>\n",
       "      <th>ADL</th>\n",
       "      <th>BEH</th>\n",
       "      <th>CHC</th>\n",
       "      <th>Preferred_language</th>\n",
       "    </tr>\n",
       "  </thead>\n",
       "  <tbody>\n",
       "    <tr>\n",
       "      <th>0</th>\n",
       "      <td>2020</td>\n",
       "      <td>Qld</td>\n",
       "      <td>70-79</td>\n",
       "      <td>Female</td>\n",
       "      <td>H</td>\n",
       "      <td>H</td>\n",
       "      <td>L</td>\n",
       "      <td>English</td>\n",
       "    </tr>\n",
       "    <tr>\n",
       "      <th>1</th>\n",
       "      <td>2020</td>\n",
       "      <td>NSW</td>\n",
       "      <td>0-49</td>\n",
       "      <td>Male</td>\n",
       "      <td>H</td>\n",
       "      <td>M</td>\n",
       "      <td>L</td>\n",
       "      <td>English</td>\n",
       "    </tr>\n",
       "    <tr>\n",
       "      <th>2</th>\n",
       "      <td>2020</td>\n",
       "      <td>NSW</td>\n",
       "      <td>70-79</td>\n",
       "      <td>Female</td>\n",
       "      <td>H</td>\n",
       "      <td>H</td>\n",
       "      <td>H</td>\n",
       "      <td>English</td>\n",
       "    </tr>\n",
       "    <tr>\n",
       "      <th>3</th>\n",
       "      <td>2020</td>\n",
       "      <td>NSW</td>\n",
       "      <td>70-79</td>\n",
       "      <td>Female</td>\n",
       "      <td>H</td>\n",
       "      <td>H</td>\n",
       "      <td>H</td>\n",
       "      <td>English</td>\n",
       "    </tr>\n",
       "    <tr>\n",
       "      <th>4</th>\n",
       "      <td>2020</td>\n",
       "      <td>Qld</td>\n",
       "      <td>60-69</td>\n",
       "      <td>Male</td>\n",
       "      <td>H</td>\n",
       "      <td>H</td>\n",
       "      <td>H</td>\n",
       "      <td>English</td>\n",
       "    </tr>\n",
       "  </tbody>\n",
       "</table>\n",
       "</div>"
      ],
      "text/plain": [
       "   Year State Age_group     Sex ADL BEH CHC Preferred_language\n",
       "0  2020   Qld     70-79  Female   H   H   L            English\n",
       "1  2020   NSW     0-49     Male   H   M   L            English\n",
       "2  2020   NSW     70-79  Female   H   H   H            English\n",
       "3  2020   NSW     70-79  Female   H   H   H            English\n",
       "4  2020   Qld     60-69    Male   H   H   H            English"
      ]
     },
     "execution_count": 29,
     "metadata": {},
     "output_type": "execute_result"
    }
   ],
   "source": [
    "file_path = 'C:/Iresha_Code/ML_my_projects/Aged_care/Care_needs_2019_20_GENdata.xlsx'\n",
    "\n",
    "# Load the CSV file into a pandas DataFrame\n",
    "df_20 = pd.read_excel(file_path)\n",
    "\n",
    "df_20.head()"
   ]
  },
  {
   "cell_type": "code",
   "execution_count": null,
   "metadata": {},
   "outputs": [],
   "source": [
    "# Rename columns\n",
    "df_20.rename(columns={'Year':'YEAR', 'State':'STATE','Age_group':'AGE_GROUP','Sex': 'SEX', 'Preferred_language':'LAN'}, inplace=True)"
   ]
  },
  {
   "cell_type": "code",
   "execution_count": null,
   "metadata": {},
   "outputs": [
    {
     "data": {
      "text/plain": [
       "YEAR         1\n",
       "STATE        8\n",
       "AGE_GROUP    7\n",
       "SEX          2\n",
       "ADL          4\n",
       "BEH          4\n",
       "CHC          4\n",
       "LAN          3\n",
       "dtype: int64"
      ]
     },
     "execution_count": 31,
     "metadata": {},
     "output_type": "execute_result"
    }
   ],
   "source": [
    "# Number of unique values\n",
    "df_20.nunique()"
   ]
  },
  {
   "cell_type": "code",
   "execution_count": null,
   "metadata": {},
   "outputs": [
    {
     "name": "stdout",
     "output_type": "stream",
     "text": [
      "Column: YEAR\n",
      "[2020]\n",
      "\n",
      "Column: STATE\n",
      "['Qld' 'NSW' 'Vic' 'ACT' 'SA ' 'WA ' 'Tas' 'NT ']\n",
      "\n",
      "Column: AGE_GROUP\n",
      "['70-79' '0-49 ' '60-69' '80-89' '90-99' '50-59' '100+ ']\n",
      "\n",
      "Column: SEX\n",
      "['Female' 'Male']\n",
      "\n",
      "Column: ADL\n",
      "['H' 'L' 'M' 'N']\n",
      "\n",
      "Column: BEH\n",
      "['H' 'M' 'L' 'N']\n",
      "\n",
      "Column: CHC\n",
      "['L' 'H' 'M' 'N']\n",
      "\n",
      "Column: LAN\n",
      "['English' 'Other languages' 'Not stated / inadequately described']\n",
      "\n"
     ]
    }
   ],
   "source": [
    "# Unique values\n",
    "for column in df_20.columns:\n",
    "    print(f\"Column: {column}\")\n",
    "    print(df_20[column].unique())  # Display unique values\n",
    "    print()  # Add a blank line for better readability"
   ]
  },
  {
   "cell_type": "code",
   "execution_count": null,
   "metadata": {},
   "outputs": [
    {
     "name": "stdout",
     "output_type": "stream",
     "text": [
      "YEAR\n",
      "2020    183732\n",
      "Name: count, dtype: int64\n"
     ]
    }
   ],
   "source": [
    "unique_value_counts = df_20['YEAR'].value_counts()\n",
    "\n",
    "# Display the result\n",
    "print(unique_value_counts)"
   ]
  },
  {
   "cell_type": "markdown",
   "metadata": {},
   "source": [
    "### File 6"
   ]
  },
  {
   "cell_type": "code",
   "execution_count": null,
   "metadata": {},
   "outputs": [
    {
     "data": {
      "text/html": [
       "<div>\n",
       "<style scoped>\n",
       "    .dataframe tbody tr th:only-of-type {\n",
       "        vertical-align: middle;\n",
       "    }\n",
       "\n",
       "    .dataframe tbody tr th {\n",
       "        vertical-align: top;\n",
       "    }\n",
       "\n",
       "    .dataframe thead th {\n",
       "        text-align: right;\n",
       "    }\n",
       "</style>\n",
       "<table border=\"1\" class=\"dataframe\">\n",
       "  <thead>\n",
       "    <tr style=\"text-align: right;\">\n",
       "      <th></th>\n",
       "      <th>Year</th>\n",
       "      <th>State</th>\n",
       "      <th>Age_group</th>\n",
       "      <th>Sex</th>\n",
       "      <th>ADL</th>\n",
       "      <th>BEH</th>\n",
       "      <th>CHC</th>\n",
       "      <th>Preferred_language</th>\n",
       "    </tr>\n",
       "  </thead>\n",
       "  <tbody>\n",
       "    <tr>\n",
       "      <th>0</th>\n",
       "      <td>2021</td>\n",
       "      <td>Qld</td>\n",
       "      <td>70-79</td>\n",
       "      <td>Female</td>\n",
       "      <td>H</td>\n",
       "      <td>H</td>\n",
       "      <td>L</td>\n",
       "      <td>English</td>\n",
       "    </tr>\n",
       "    <tr>\n",
       "      <th>1</th>\n",
       "      <td>2021</td>\n",
       "      <td>NSW</td>\n",
       "      <td>50-59</td>\n",
       "      <td>Male</td>\n",
       "      <td>H</td>\n",
       "      <td>M</td>\n",
       "      <td>L</td>\n",
       "      <td>English</td>\n",
       "    </tr>\n",
       "    <tr>\n",
       "      <th>2</th>\n",
       "      <td>2021</td>\n",
       "      <td>NSW</td>\n",
       "      <td>70-79</td>\n",
       "      <td>Female</td>\n",
       "      <td>H</td>\n",
       "      <td>H</td>\n",
       "      <td>H</td>\n",
       "      <td>English</td>\n",
       "    </tr>\n",
       "    <tr>\n",
       "      <th>3</th>\n",
       "      <td>2021</td>\n",
       "      <td>Qld</td>\n",
       "      <td>60-69</td>\n",
       "      <td>Male</td>\n",
       "      <td>H</td>\n",
       "      <td>H</td>\n",
       "      <td>H</td>\n",
       "      <td>English</td>\n",
       "    </tr>\n",
       "    <tr>\n",
       "      <th>4</th>\n",
       "      <td>2021</td>\n",
       "      <td>Vic</td>\n",
       "      <td>80-89</td>\n",
       "      <td>Male</td>\n",
       "      <td>H</td>\n",
       "      <td>H</td>\n",
       "      <td>H</td>\n",
       "      <td>English</td>\n",
       "    </tr>\n",
       "  </tbody>\n",
       "</table>\n",
       "</div>"
      ],
      "text/plain": [
       "   Year State    Age_group     Sex ADL BEH CHC Preferred_language\n",
       "0  2021   Qld  70-79        Female   H   H   L            English\n",
       "1  2021   NSW  50-59         Male    H   M   L            English\n",
       "2  2021   NSW  70-79        Female   H   H   H            English\n",
       "3  2021   Qld  60-69         Male    H   H   H            English\n",
       "4  2021   Vic  80-89         Male    H   H   H            English"
      ]
     },
     "execution_count": 34,
     "metadata": {},
     "output_type": "execute_result"
    }
   ],
   "source": [
    "file_path = 'C:/Iresha_Code/ML_my_projects/Aged_care/Care_needs_2020–21_GENdata.xlsx'\n",
    "\n",
    "# Load the CSV file into a pandas DataFrame\n",
    "df_21 = pd.read_excel(file_path)\n",
    "\n",
    "df_21.head()"
   ]
  },
  {
   "cell_type": "code",
   "execution_count": null,
   "metadata": {},
   "outputs": [],
   "source": [
    "# Rename columns\n",
    "df_21.rename(columns={'Year':'YEAR', 'State':'STATE','Age_group':'AGE_GROUP','Sex': 'SEX', 'Preferred_language':'LAN'}, inplace=True)"
   ]
  },
  {
   "cell_type": "code",
   "execution_count": null,
   "metadata": {},
   "outputs": [
    {
     "data": {
      "text/plain": [
       "YEAR         1\n",
       "STATE        8\n",
       "AGE_GROUP    8\n",
       "SEX          2\n",
       "ADL          4\n",
       "BEH          4\n",
       "CHC          4\n",
       "LAN          3\n",
       "dtype: int64"
      ]
     },
     "execution_count": 36,
     "metadata": {},
     "output_type": "execute_result"
    }
   ],
   "source": [
    "# Number of unique values\n",
    "df_21.nunique()"
   ]
  },
  {
   "cell_type": "code",
   "execution_count": null,
   "metadata": {},
   "outputs": [
    {
     "name": "stdout",
     "output_type": "stream",
     "text": [
      "Column: YEAR\n",
      "[2021]\n",
      "\n",
      "Column: STATE\n",
      "['Qld' 'NSW' 'Vic' 'SA ' 'WA ' 'Tas' 'NT ' 'ACT']\n",
      "\n",
      "Column: AGE_GROUP\n",
      "['70-79      ' '50-59      ' '60-69      ' '80-89      ' '0-49       '\n",
      " '90-99      ' 'Unknown' '100+       ']\n",
      "\n",
      "Column: SEX\n",
      "['Female' 'Male ']\n",
      "\n",
      "Column: ADL\n",
      "['H' 'M' 'L' 'N']\n",
      "\n",
      "Column: BEH\n",
      "['H' 'M' 'L' 'N']\n",
      "\n",
      "Column: CHC\n",
      "['L' 'H' 'M' 'N']\n",
      "\n",
      "Column: LAN\n",
      "['English' 'Other languages' 'Not stated / inadequately described']\n",
      "\n"
     ]
    }
   ],
   "source": [
    "# Unique values\n",
    "for column in df_21.columns:\n",
    "    print(f\"Column: {column}\")\n",
    "    print(df_21[column].unique())  # Display unique values\n",
    "    print()  # Add a blank line for better readability"
   ]
  },
  {
   "cell_type": "code",
   "execution_count": null,
   "metadata": {},
   "outputs": [
    {
     "name": "stdout",
     "output_type": "stream",
     "text": [
      "YEAR\n",
      "2021    183446\n",
      "Name: count, dtype: int64\n"
     ]
    }
   ],
   "source": [
    "unique_value_counts = df_21['YEAR'].value_counts()\n",
    "\n",
    "# Display the result\n",
    "print(unique_value_counts)"
   ]
  },
  {
   "cell_type": "markdown",
   "metadata": {},
   "source": [
    "### File 7"
   ]
  },
  {
   "cell_type": "code",
   "execution_count": null,
   "metadata": {},
   "outputs": [
    {
     "data": {
      "text/html": [
       "<div>\n",
       "<style scoped>\n",
       "    .dataframe tbody tr th:only-of-type {\n",
       "        vertical-align: middle;\n",
       "    }\n",
       "\n",
       "    .dataframe tbody tr th {\n",
       "        vertical-align: top;\n",
       "    }\n",
       "\n",
       "    .dataframe thead th {\n",
       "        text-align: right;\n",
       "    }\n",
       "</style>\n",
       "<table border=\"1\" class=\"dataframe\">\n",
       "  <thead>\n",
       "    <tr style=\"text-align: right;\">\n",
       "      <th></th>\n",
       "      <th>YEAR</th>\n",
       "      <th>STATE</th>\n",
       "      <th>AGE_GROUP_5</th>\n",
       "      <th>SEX</th>\n",
       "      <th>ADL</th>\n",
       "      <th>BEH</th>\n",
       "      <th>CHC</th>\n",
       "      <th>PREFERRED_LANGUAGE</th>\n",
       "    </tr>\n",
       "  </thead>\n",
       "  <tbody>\n",
       "    <tr>\n",
       "      <th>0</th>\n",
       "      <td>2022</td>\n",
       "      <td>NSW</td>\n",
       "      <td>80–84</td>\n",
       "      <td>Female</td>\n",
       "      <td>M</td>\n",
       "      <td>L</td>\n",
       "      <td>H</td>\n",
       "      <td>Not stated / inadequately described</td>\n",
       "    </tr>\n",
       "    <tr>\n",
       "      <th>1</th>\n",
       "      <td>2022</td>\n",
       "      <td>NSW</td>\n",
       "      <td>80–84</td>\n",
       "      <td>Female</td>\n",
       "      <td>L</td>\n",
       "      <td>H</td>\n",
       "      <td>M</td>\n",
       "      <td>English</td>\n",
       "    </tr>\n",
       "    <tr>\n",
       "      <th>2</th>\n",
       "      <td>2022</td>\n",
       "      <td>NSW</td>\n",
       "      <td>90–94</td>\n",
       "      <td>Female</td>\n",
       "      <td>H</td>\n",
       "      <td>H</td>\n",
       "      <td>M</td>\n",
       "      <td>English</td>\n",
       "    </tr>\n",
       "    <tr>\n",
       "      <th>3</th>\n",
       "      <td>2022</td>\n",
       "      <td>NSW</td>\n",
       "      <td>85–89</td>\n",
       "      <td>Female</td>\n",
       "      <td>L</td>\n",
       "      <td>H</td>\n",
       "      <td>L</td>\n",
       "      <td>English</td>\n",
       "    </tr>\n",
       "    <tr>\n",
       "      <th>4</th>\n",
       "      <td>2022</td>\n",
       "      <td>NSW</td>\n",
       "      <td>85–89</td>\n",
       "      <td>Male</td>\n",
       "      <td>M</td>\n",
       "      <td>N</td>\n",
       "      <td>H</td>\n",
       "      <td>Not stated / inadequately described</td>\n",
       "    </tr>\n",
       "  </tbody>\n",
       "</table>\n",
       "</div>"
      ],
      "text/plain": [
       "   YEAR STATE AGE_GROUP_5     SEX ADL BEH CHC  \\\n",
       "0  2022   NSW       80–84  Female   M   L   H   \n",
       "1  2022   NSW       80–84  Female   L   H   M   \n",
       "2  2022   NSW       90–94  Female   H   H   M   \n",
       "3  2022   NSW       85–89  Female   L   H   L   \n",
       "4  2022   NSW       85–89    Male   M   N   H   \n",
       "\n",
       "                    PREFERRED_LANGUAGE  \n",
       "0  Not stated / inadequately described  \n",
       "1                              English  \n",
       "2                              English  \n",
       "3                              English  \n",
       "4  Not stated / inadequately described  "
      ]
     },
     "execution_count": 39,
     "metadata": {},
     "output_type": "execute_result"
    }
   ],
   "source": [
    "file_path = 'C:/Iresha_Code/ML_my_projects/Aged_care/Care_needs_2021-22_GENdata.csv'\n",
    "\n",
    "# Load the CSV file into a pandas DataFrame\n",
    "df_22 = pd.read_csv(file_path)\n",
    "\n",
    "df_22.head()"
   ]
  },
  {
   "cell_type": "code",
   "execution_count": null,
   "metadata": {},
   "outputs": [],
   "source": [
    "# Rename columns\n",
    "df_22.rename(columns={'AGE_GROUP_5':'AGE_GROUP', 'PREFERRED_LANGUAGE':'LAN'}, inplace=True)"
   ]
  },
  {
   "cell_type": "code",
   "execution_count": null,
   "metadata": {},
   "outputs": [
    {
     "data": {
      "text/plain": [
       "YEAR          1\n",
       "STATE         8\n",
       "AGE_GROUP    13\n",
       "SEX           2\n",
       "ADL           4\n",
       "BEH           4\n",
       "CHC           4\n",
       "LAN           3\n",
       "dtype: int64"
      ]
     },
     "execution_count": 41,
     "metadata": {},
     "output_type": "execute_result"
    }
   ],
   "source": [
    "# Number of unique values\n",
    "df_22.nunique()"
   ]
  },
  {
   "cell_type": "code",
   "execution_count": null,
   "metadata": {},
   "outputs": [
    {
     "name": "stdout",
     "output_type": "stream",
     "text": [
      "Column: YEAR\n",
      "[2022]\n",
      "\n",
      "Column: STATE\n",
      "['NSW' 'ACT' 'Vic' 'Qld' 'WA' 'SA' 'Tas' 'NT']\n",
      "\n",
      "Column: AGE_GROUP\n",
      "['80–84' '90–94' '85–89' '95–99' '70–74' '65–69' '75–79' '100+' '60–64'\n",
      " '55–59' '50–54' '0–49' '–']\n",
      "\n",
      "Column: SEX\n",
      "['Female' 'Male']\n",
      "\n",
      "Column: ADL\n",
      "['M' 'L' 'H' 'N']\n",
      "\n",
      "Column: BEH\n",
      "['L' 'H' 'N' 'M']\n",
      "\n",
      "Column: CHC\n",
      "['H' 'M' 'L' 'N']\n",
      "\n",
      "Column: LAN\n",
      "['Not stated / inadequately described' 'English' 'Other languages']\n",
      "\n"
     ]
    }
   ],
   "source": [
    "# Unique values\n",
    "for column in df_22.columns:\n",
    "    print(f\"Column: {column}\")\n",
    "    print(df_22[column].unique())  # Display unique values\n",
    "    print()  # Add a blank line for better readability"
   ]
  },
  {
   "cell_type": "code",
   "execution_count": null,
   "metadata": {},
   "outputs": [
    {
     "name": "stdout",
     "output_type": "stream",
     "text": [
      "YEAR\n",
      "2022    176973\n",
      "Name: count, dtype: int64\n"
     ]
    }
   ],
   "source": [
    "unique_value_counts = df_22['YEAR'].value_counts()\n",
    "\n",
    "# Display the result\n",
    "print(unique_value_counts)"
   ]
  },
  {
   "cell_type": "markdown",
   "metadata": {},
   "source": [
    "### File 8"
   ]
  },
  {
   "cell_type": "code",
   "execution_count": null,
   "metadata": {},
   "outputs": [
    {
     "data": {
      "text/html": [
       "<div>\n",
       "<style scoped>\n",
       "    .dataframe tbody tr th:only-of-type {\n",
       "        vertical-align: middle;\n",
       "    }\n",
       "\n",
       "    .dataframe tbody tr th {\n",
       "        vertical-align: top;\n",
       "    }\n",
       "\n",
       "    .dataframe thead th {\n",
       "        text-align: right;\n",
       "    }\n",
       "</style>\n",
       "<table border=\"1\" class=\"dataframe\">\n",
       "  <thead>\n",
       "    <tr style=\"text-align: right;\">\n",
       "      <th></th>\n",
       "      <th>YEAR</th>\n",
       "      <th>STATE</th>\n",
       "      <th>CARE_TYPE</th>\n",
       "      <th>AGE_GROUP</th>\n",
       "      <th>SEX</th>\n",
       "      <th>INDIGENOUS_STATUS</th>\n",
       "      <th>PREFERRED_LANGUAGE</th>\n",
       "      <th>COUNTRY_OF_BIRTH</th>\n",
       "      <th>ANACC_CLASSIFICATION</th>\n",
       "      <th>MOBILITY_CATEGORY</th>\n",
       "    </tr>\n",
       "  </thead>\n",
       "  <tbody>\n",
       "    <tr>\n",
       "      <th>0</th>\n",
       "      <td>2023</td>\n",
       "      <td>VIC</td>\n",
       "      <td>Permanent residential care</td>\n",
       "      <td>80–84</td>\n",
       "      <td>Male</td>\n",
       "      <td>Non-Indigenous</td>\n",
       "      <td>English</td>\n",
       "      <td>Australia</td>\n",
       "      <td>13</td>\n",
       "      <td>Not mobile</td>\n",
       "    </tr>\n",
       "    <tr>\n",
       "      <th>1</th>\n",
       "      <td>2023</td>\n",
       "      <td>WA</td>\n",
       "      <td>Permanent residential care</td>\n",
       "      <td>80–84</td>\n",
       "      <td>Male</td>\n",
       "      <td>Non-Indigenous</td>\n",
       "      <td>English</td>\n",
       "      <td>Other main-English-speaking country</td>\n",
       "      <td>11</td>\n",
       "      <td>Not mobile</td>\n",
       "    </tr>\n",
       "    <tr>\n",
       "      <th>2</th>\n",
       "      <td>2023</td>\n",
       "      <td>NSW</td>\n",
       "      <td>Permanent residential care</td>\n",
       "      <td>95–99</td>\n",
       "      <td>Female</td>\n",
       "      <td>Non-Indigenous</td>\n",
       "      <td>Other language</td>\n",
       "      <td>Non-English-speaking country</td>\n",
       "      <td>11</td>\n",
       "      <td>Not mobile</td>\n",
       "    </tr>\n",
       "    <tr>\n",
       "      <th>3</th>\n",
       "      <td>2023</td>\n",
       "      <td>SA</td>\n",
       "      <td>Permanent residential care</td>\n",
       "      <td>95–99</td>\n",
       "      <td>Female</td>\n",
       "      <td>Non-Indigenous</td>\n",
       "      <td>English</td>\n",
       "      <td>Australia</td>\n",
       "      <td>5</td>\n",
       "      <td>Assisted mobility</td>\n",
       "    </tr>\n",
       "    <tr>\n",
       "      <th>4</th>\n",
       "      <td>2023</td>\n",
       "      <td>WA</td>\n",
       "      <td>Permanent residential care</td>\n",
       "      <td>75–79</td>\n",
       "      <td>Male</td>\n",
       "      <td>Non-Indigenous</td>\n",
       "      <td>English</td>\n",
       "      <td>Other main-English-speaking country</td>\n",
       "      <td>2</td>\n",
       "      <td>Independent mobility</td>\n",
       "    </tr>\n",
       "  </tbody>\n",
       "</table>\n",
       "</div>"
      ],
      "text/plain": [
       "   YEAR STATE                   CARE_TYPE AGE_GROUP     SEX INDIGENOUS_STATUS  \\\n",
       "0  2023   VIC  Permanent residential care     80–84    Male    Non-Indigenous   \n",
       "1  2023    WA  Permanent residential care     80–84    Male    Non-Indigenous   \n",
       "2  2023   NSW  Permanent residential care     95–99  Female    Non-Indigenous   \n",
       "3  2023    SA  Permanent residential care     95–99  Female    Non-Indigenous   \n",
       "4  2023    WA  Permanent residential care     75–79    Male    Non-Indigenous   \n",
       "\n",
       "  PREFERRED_LANGUAGE                     COUNTRY_OF_BIRTH  \\\n",
       "0            English                            Australia   \n",
       "1            English  Other main-English-speaking country   \n",
       "2     Other language         Non-English-speaking country   \n",
       "3            English                            Australia   \n",
       "4            English  Other main-English-speaking country   \n",
       "\n",
       "   ANACC_CLASSIFICATION     MOBILITY_CATEGORY  \n",
       "0                    13            Not mobile  \n",
       "1                    11            Not mobile  \n",
       "2                    11            Not mobile  \n",
       "3                     5     Assisted mobility  \n",
       "4                     2  Independent mobility  "
      ]
     },
     "execution_count": 44,
     "metadata": {},
     "output_type": "execute_result"
    }
   ],
   "source": [
    "file_path = 'C:/Iresha_Code/ML_my_projects/Aged_care/Care_needs_2022-23_GENdata.csv'\n",
    "\n",
    "# Load the CSV file into a pandas DataFrame\n",
    "df_23 = pd.read_csv(file_path)\n",
    "\n",
    "df_23.head()"
   ]
  },
  {
   "cell_type": "code",
   "execution_count": null,
   "metadata": {},
   "outputs": [],
   "source": [
    "# Rename columns\n",
    "df_23.rename(columns={'PREFERRED_LANGUAGE':'LAN'}, inplace=True)"
   ]
  },
  {
   "cell_type": "code",
   "execution_count": null,
   "metadata": {},
   "outputs": [
    {
     "data": {
      "text/plain": [
       "YEAR                     1\n",
       "STATE                    8\n",
       "CARE_TYPE                1\n",
       "AGE_GROUP               12\n",
       "SEX                      3\n",
       "INDIGENOUS_STATUS        3\n",
       "LAN                      3\n",
       "COUNTRY_OF_BIRTH         4\n",
       "ANACC_CLASSIFICATION    15\n",
       "MOBILITY_CATEGORY        5\n",
       "dtype: int64"
      ]
     },
     "execution_count": 46,
     "metadata": {},
     "output_type": "execute_result"
    }
   ],
   "source": [
    "# Number of unique values\n",
    "df_23.nunique()"
   ]
  },
  {
   "cell_type": "code",
   "execution_count": null,
   "metadata": {},
   "outputs": [
    {
     "name": "stdout",
     "output_type": "stream",
     "text": [
      "Column: YEAR\n",
      "[2023]\n",
      "\n",
      "Column: STATE\n",
      "['VIC' 'WA' 'NSW' 'SA' 'QLD' 'TAS' 'ACT' 'NT']\n",
      "\n",
      "Column: CARE_TYPE\n",
      "['Permanent residential care']\n",
      "\n",
      "Column: AGE_GROUP\n",
      "['80–84' '95–99' '75–79' '70–74' '85–89' '90–94' '100+' '65–69' '60–64'\n",
      " '55–59' '50–54' '0–49']\n",
      "\n",
      "Column: SEX\n",
      "['Male' 'Female' 'Unknown']\n",
      "\n",
      "Column: INDIGENOUS_STATUS\n",
      "['Non-Indigenous' 'Indigenous' 'Unknown']\n",
      "\n",
      "Column: LAN\n",
      "['English' 'Other language' 'Unknown']\n",
      "\n",
      "Column: COUNTRY_OF_BIRTH\n",
      "['Australia' 'Other main-English-speaking country'\n",
      " 'Non-English-speaking country' 'Unknown']\n",
      "\n",
      "Column: ANACC_CLASSIFICATION\n",
      "[13 11  5  2  6  9  7  4 10  8 12  3 99  1 98]\n",
      "\n",
      "Column: MOBILITY_CATEGORY\n",
      "['Not mobile' 'Assisted mobility' 'Independent mobility' 'Unknown'\n",
      " 'Palliative care']\n",
      "\n"
     ]
    }
   ],
   "source": [
    "# Unique values\n",
    "for column in df_23.columns:\n",
    "    print(f\"Column: {column}\")\n",
    "    print(df_23[column].unique())  # Display unique values\n",
    "    print()  # Add a blank line for better readability"
   ]
  },
  {
   "cell_type": "code",
   "execution_count": null,
   "metadata": {},
   "outputs": [
    {
     "name": "stdout",
     "output_type": "stream",
     "text": [
      "YEAR\n",
      "2023    183990\n",
      "Name: count, dtype: int64\n"
     ]
    }
   ],
   "source": [
    "unique_value_counts = df_23['YEAR'].value_counts()\n",
    "\n",
    "# Display the result\n",
    "print(unique_value_counts)"
   ]
  },
  {
   "cell_type": "markdown",
   "metadata": {},
   "source": [
    "### Combining dataframes "
   ]
  },
  {
   "cell_type": "code",
   "execution_count": null,
   "metadata": {},
   "outputs": [
    {
     "data": {
      "text/html": [
       "<div>\n",
       "<style scoped>\n",
       "    .dataframe tbody tr th:only-of-type {\n",
       "        vertical-align: middle;\n",
       "    }\n",
       "\n",
       "    .dataframe tbody tr th {\n",
       "        vertical-align: top;\n",
       "    }\n",
       "\n",
       "    .dataframe thead th {\n",
       "        text-align: right;\n",
       "    }\n",
       "</style>\n",
       "<table border=\"1\" class=\"dataframe\">\n",
       "  <thead>\n",
       "    <tr style=\"text-align: right;\">\n",
       "      <th></th>\n",
       "      <th>YEAR</th>\n",
       "      <th>STATE</th>\n",
       "      <th>AGE_GROUP</th>\n",
       "      <th>SEX</th>\n",
       "      <th>ADL</th>\n",
       "      <th>BEH</th>\n",
       "      <th>CHC</th>\n",
       "      <th>LAN</th>\n",
       "    </tr>\n",
       "  </thead>\n",
       "  <tbody>\n",
       "    <tr>\n",
       "      <th>0</th>\n",
       "      <td>2008</td>\n",
       "      <td>NSW</td>\n",
       "      <td>80–89</td>\n",
       "      <td>M</td>\n",
       "      <td>L</td>\n",
       "      <td>N</td>\n",
       "      <td>N</td>\n",
       "      <td>English</td>\n",
       "    </tr>\n",
       "    <tr>\n",
       "      <th>1</th>\n",
       "      <td>2008</td>\n",
       "      <td>Vic</td>\n",
       "      <td>80–89</td>\n",
       "      <td>F</td>\n",
       "      <td>H</td>\n",
       "      <td>H</td>\n",
       "      <td>L</td>\n",
       "      <td>English</td>\n",
       "    </tr>\n",
       "    <tr>\n",
       "      <th>2</th>\n",
       "      <td>2008</td>\n",
       "      <td>WA</td>\n",
       "      <td>80–89</td>\n",
       "      <td>F</td>\n",
       "      <td>L</td>\n",
       "      <td>L</td>\n",
       "      <td>L</td>\n",
       "      <td>English</td>\n",
       "    </tr>\n",
       "    <tr>\n",
       "      <th>3</th>\n",
       "      <td>2008</td>\n",
       "      <td>Tas</td>\n",
       "      <td>80–89</td>\n",
       "      <td>M</td>\n",
       "      <td>H</td>\n",
       "      <td>H</td>\n",
       "      <td>H</td>\n",
       "      <td>English</td>\n",
       "    </tr>\n",
       "    <tr>\n",
       "      <th>4</th>\n",
       "      <td>2008</td>\n",
       "      <td>WA</td>\n",
       "      <td>80–89</td>\n",
       "      <td>M</td>\n",
       "      <td>M</td>\n",
       "      <td>L</td>\n",
       "      <td>L</td>\n",
       "      <td>Other languages</td>\n",
       "    </tr>\n",
       "    <tr>\n",
       "      <th>5</th>\n",
       "      <td>2008</td>\n",
       "      <td>SA</td>\n",
       "      <td>60–69</td>\n",
       "      <td>F</td>\n",
       "      <td>M</td>\n",
       "      <td>L</td>\n",
       "      <td>M</td>\n",
       "      <td>English</td>\n",
       "    </tr>\n",
       "    <tr>\n",
       "      <th>6</th>\n",
       "      <td>2008</td>\n",
       "      <td>NSW</td>\n",
       "      <td>80–89</td>\n",
       "      <td>F</td>\n",
       "      <td>N</td>\n",
       "      <td>H</td>\n",
       "      <td>N</td>\n",
       "      <td>English</td>\n",
       "    </tr>\n",
       "    <tr>\n",
       "      <th>7</th>\n",
       "      <td>2008</td>\n",
       "      <td>Qld</td>\n",
       "      <td>80–89</td>\n",
       "      <td>F</td>\n",
       "      <td>M</td>\n",
       "      <td>L</td>\n",
       "      <td>L</td>\n",
       "      <td>Other languages</td>\n",
       "    </tr>\n",
       "    <tr>\n",
       "      <th>8</th>\n",
       "      <td>2008</td>\n",
       "      <td>Vic</td>\n",
       "      <td>80–89</td>\n",
       "      <td>F</td>\n",
       "      <td>H</td>\n",
       "      <td>M</td>\n",
       "      <td>M</td>\n",
       "      <td>English</td>\n",
       "    </tr>\n",
       "    <tr>\n",
       "      <th>9</th>\n",
       "      <td>2008</td>\n",
       "      <td>Vic</td>\n",
       "      <td>80–89</td>\n",
       "      <td>F</td>\n",
       "      <td>L</td>\n",
       "      <td>M</td>\n",
       "      <td>M</td>\n",
       "      <td>English</td>\n",
       "    </tr>\n",
       "    <tr>\n",
       "      <th>10</th>\n",
       "      <td>2008</td>\n",
       "      <td>Tas</td>\n",
       "      <td>60–69</td>\n",
       "      <td>M</td>\n",
       "      <td>H</td>\n",
       "      <td>H</td>\n",
       "      <td>L</td>\n",
       "      <td>English</td>\n",
       "    </tr>\n",
       "    <tr>\n",
       "      <th>11</th>\n",
       "      <td>2008</td>\n",
       "      <td>NSW</td>\n",
       "      <td>90–99</td>\n",
       "      <td>F</td>\n",
       "      <td>L</td>\n",
       "      <td>L</td>\n",
       "      <td>L</td>\n",
       "      <td>English</td>\n",
       "    </tr>\n",
       "    <tr>\n",
       "      <th>12</th>\n",
       "      <td>2008</td>\n",
       "      <td>Vic</td>\n",
       "      <td>90–99</td>\n",
       "      <td>F</td>\n",
       "      <td>M</td>\n",
       "      <td>N</td>\n",
       "      <td>H</td>\n",
       "      <td>English</td>\n",
       "    </tr>\n",
       "    <tr>\n",
       "      <th>13</th>\n",
       "      <td>2008</td>\n",
       "      <td>Qld</td>\n",
       "      <td>90–99</td>\n",
       "      <td>F</td>\n",
       "      <td>M</td>\n",
       "      <td>N</td>\n",
       "      <td>L</td>\n",
       "      <td>English</td>\n",
       "    </tr>\n",
       "    <tr>\n",
       "      <th>14</th>\n",
       "      <td>2008</td>\n",
       "      <td>NSW</td>\n",
       "      <td>90–99</td>\n",
       "      <td>M</td>\n",
       "      <td>H</td>\n",
       "      <td>L</td>\n",
       "      <td>L</td>\n",
       "      <td>English</td>\n",
       "    </tr>\n",
       "    <tr>\n",
       "      <th>15</th>\n",
       "      <td>2008</td>\n",
       "      <td>Vic</td>\n",
       "      <td>90–99</td>\n",
       "      <td>M</td>\n",
       "      <td>M</td>\n",
       "      <td>H</td>\n",
       "      <td>L</td>\n",
       "      <td>Other languages</td>\n",
       "    </tr>\n",
       "    <tr>\n",
       "      <th>16</th>\n",
       "      <td>2008</td>\n",
       "      <td>NSW</td>\n",
       "      <td>80–89</td>\n",
       "      <td>F</td>\n",
       "      <td>L</td>\n",
       "      <td>L</td>\n",
       "      <td>M</td>\n",
       "      <td>English</td>\n",
       "    </tr>\n",
       "    <tr>\n",
       "      <th>17</th>\n",
       "      <td>2008</td>\n",
       "      <td>SA</td>\n",
       "      <td>80–89</td>\n",
       "      <td>F</td>\n",
       "      <td>H</td>\n",
       "      <td>H</td>\n",
       "      <td>L</td>\n",
       "      <td>Other languages</td>\n",
       "    </tr>\n",
       "    <tr>\n",
       "      <th>18</th>\n",
       "      <td>2008</td>\n",
       "      <td>SA</td>\n",
       "      <td>70–79</td>\n",
       "      <td>M</td>\n",
       "      <td>M</td>\n",
       "      <td>H</td>\n",
       "      <td>M</td>\n",
       "      <td>English</td>\n",
       "    </tr>\n",
       "    <tr>\n",
       "      <th>19</th>\n",
       "      <td>2008</td>\n",
       "      <td>Qld</td>\n",
       "      <td>90–99</td>\n",
       "      <td>F</td>\n",
       "      <td>H</td>\n",
       "      <td>H</td>\n",
       "      <td>M</td>\n",
       "      <td>English</td>\n",
       "    </tr>\n",
       "  </tbody>\n",
       "</table>\n",
       "</div>"
      ],
      "text/plain": [
       "    YEAR STATE AGE_GROUP SEX ADL BEH CHC              LAN\n",
       "0   2008   NSW     80–89   M   L   N   N          English\n",
       "1   2008   Vic     80–89   F   H   H   L          English\n",
       "2   2008    WA     80–89   F   L   L   L          English\n",
       "3   2008   Tas     80–89   M   H   H   H          English\n",
       "4   2008    WA     80–89   M   M   L   L  Other languages\n",
       "5   2008    SA     60–69   F   M   L   M          English\n",
       "6   2008   NSW     80–89   F   N   H   N          English\n",
       "7   2008   Qld     80–89   F   M   L   L  Other languages\n",
       "8   2008   Vic     80–89   F   H   M   M          English\n",
       "9   2008   Vic     80–89   F   L   M   M          English\n",
       "10  2008   Tas     60–69   M   H   H   L          English\n",
       "11  2008   NSW     90–99   F   L   L   L          English\n",
       "12  2008   Vic     90–99   F   M   N   H          English\n",
       "13  2008   Qld     90–99   F   M   N   L          English\n",
       "14  2008   NSW     90–99   M   H   L   L          English\n",
       "15  2008   Vic     90–99   M   M   H   L  Other languages\n",
       "16  2008   NSW     80–89   F   L   L   M          English\n",
       "17  2008    SA     80–89   F   H   H   L  Other languages\n",
       "18  2008    SA     70–79   M   M   H   M          English\n",
       "19  2008   Qld     90–99   F   H   H   M          English"
      ]
     },
     "execution_count": 127,
     "metadata": {},
     "output_type": "execute_result"
    }
   ],
   "source": [
    "# Combine the DataFrames same column names\n",
    "df_combined_7 = pd.concat([df_2008_12, df_13_17, df_18, df_19, df_20, df_21, df_22], ignore_index=True)\n",
    "\n",
    "df_combined_7.head(20)"
   ]
  },
  {
   "cell_type": "code",
   "execution_count": null,
   "metadata": {},
   "outputs": [
    {
     "data": {
      "text/html": [
       "<div>\n",
       "<style scoped>\n",
       "    .dataframe tbody tr th:only-of-type {\n",
       "        vertical-align: middle;\n",
       "    }\n",
       "\n",
       "    .dataframe tbody tr th {\n",
       "        vertical-align: top;\n",
       "    }\n",
       "\n",
       "    .dataframe thead th {\n",
       "        text-align: right;\n",
       "    }\n",
       "</style>\n",
       "<table border=\"1\" class=\"dataframe\">\n",
       "  <thead>\n",
       "    <tr style=\"text-align: right;\">\n",
       "      <th></th>\n",
       "      <th>YEAR</th>\n",
       "      <th>STATE</th>\n",
       "      <th>AGE_GROUP</th>\n",
       "      <th>SEX</th>\n",
       "      <th>ADL</th>\n",
       "      <th>BEH</th>\n",
       "      <th>CHC</th>\n",
       "      <th>LAN</th>\n",
       "      <th>CARE_TYPE</th>\n",
       "      <th>INDIGENOUS_STATUS</th>\n",
       "      <th>COUNTRY_OF_BIRTH</th>\n",
       "      <th>ANACC_CLASSIFICATION</th>\n",
       "      <th>MOBILITY_CATEGORY</th>\n",
       "    </tr>\n",
       "  </thead>\n",
       "  <tbody>\n",
       "    <tr>\n",
       "      <th>0</th>\n",
       "      <td>2008</td>\n",
       "      <td>NSW</td>\n",
       "      <td>80–89</td>\n",
       "      <td>M</td>\n",
       "      <td>L</td>\n",
       "      <td>N</td>\n",
       "      <td>N</td>\n",
       "      <td>English</td>\n",
       "      <td>NaN</td>\n",
       "      <td>NaN</td>\n",
       "      <td>NaN</td>\n",
       "      <td>NaN</td>\n",
       "      <td>NaN</td>\n",
       "    </tr>\n",
       "    <tr>\n",
       "      <th>1</th>\n",
       "      <td>2008</td>\n",
       "      <td>Vic</td>\n",
       "      <td>80–89</td>\n",
       "      <td>F</td>\n",
       "      <td>H</td>\n",
       "      <td>H</td>\n",
       "      <td>L</td>\n",
       "      <td>English</td>\n",
       "      <td>NaN</td>\n",
       "      <td>NaN</td>\n",
       "      <td>NaN</td>\n",
       "      <td>NaN</td>\n",
       "      <td>NaN</td>\n",
       "    </tr>\n",
       "    <tr>\n",
       "      <th>2</th>\n",
       "      <td>2008</td>\n",
       "      <td>WA</td>\n",
       "      <td>80–89</td>\n",
       "      <td>F</td>\n",
       "      <td>L</td>\n",
       "      <td>L</td>\n",
       "      <td>L</td>\n",
       "      <td>English</td>\n",
       "      <td>NaN</td>\n",
       "      <td>NaN</td>\n",
       "      <td>NaN</td>\n",
       "      <td>NaN</td>\n",
       "      <td>NaN</td>\n",
       "    </tr>\n",
       "    <tr>\n",
       "      <th>3</th>\n",
       "      <td>2008</td>\n",
       "      <td>Tas</td>\n",
       "      <td>80–89</td>\n",
       "      <td>M</td>\n",
       "      <td>H</td>\n",
       "      <td>H</td>\n",
       "      <td>H</td>\n",
       "      <td>English</td>\n",
       "      <td>NaN</td>\n",
       "      <td>NaN</td>\n",
       "      <td>NaN</td>\n",
       "      <td>NaN</td>\n",
       "      <td>NaN</td>\n",
       "    </tr>\n",
       "    <tr>\n",
       "      <th>4</th>\n",
       "      <td>2008</td>\n",
       "      <td>WA</td>\n",
       "      <td>80–89</td>\n",
       "      <td>M</td>\n",
       "      <td>M</td>\n",
       "      <td>L</td>\n",
       "      <td>L</td>\n",
       "      <td>Other languages</td>\n",
       "      <td>NaN</td>\n",
       "      <td>NaN</td>\n",
       "      <td>NaN</td>\n",
       "      <td>NaN</td>\n",
       "      <td>NaN</td>\n",
       "    </tr>\n",
       "  </tbody>\n",
       "</table>\n",
       "</div>"
      ],
      "text/plain": [
       "   YEAR STATE AGE_GROUP SEX ADL BEH CHC              LAN CARE_TYPE  \\\n",
       "0  2008   NSW     80–89   M   L   N   N          English       NaN   \n",
       "1  2008   Vic     80–89   F   H   H   L          English       NaN   \n",
       "2  2008    WA     80–89   F   L   L   L          English       NaN   \n",
       "3  2008   Tas     80–89   M   H   H   H          English       NaN   \n",
       "4  2008    WA     80–89   M   M   L   L  Other languages       NaN   \n",
       "\n",
       "  INDIGENOUS_STATUS COUNTRY_OF_BIRTH  ANACC_CLASSIFICATION MOBILITY_CATEGORY  \n",
       "0               NaN              NaN                   NaN               NaN  \n",
       "1               NaN              NaN                   NaN               NaN  \n",
       "2               NaN              NaN                   NaN               NaN  \n",
       "3               NaN              NaN                   NaN               NaN  \n",
       "4               NaN              NaN                   NaN               NaN  "
      ]
     },
     "execution_count": 50,
     "metadata": {},
     "output_type": "execute_result"
    }
   ],
   "source": [
    "# Combine the last and 8th dataframe with new column names\n",
    "df_combined_all = pd.concat([df_combined_7, df_23], ignore_index=True)\n",
    "\n",
    "df_combined_all.head()"
   ]
  },
  {
   "cell_type": "markdown",
   "metadata": {},
   "source": [
    "# Prepare data\n",
    "\n",
    "## Explore date"
   ]
  },
  {
   "cell_type": "markdown",
   "metadata": {},
   "source": [
    "### Understand data frame"
   ]
  },
  {
   "cell_type": "code",
   "execution_count": null,
   "metadata": {},
   "outputs": [
    {
     "data": {
      "text/html": [
       "<div>\n",
       "<style scoped>\n",
       "    .dataframe tbody tr th:only-of-type {\n",
       "        vertical-align: middle;\n",
       "    }\n",
       "\n",
       "    .dataframe tbody tr th {\n",
       "        vertical-align: top;\n",
       "    }\n",
       "\n",
       "    .dataframe thead th {\n",
       "        text-align: right;\n",
       "    }\n",
       "</style>\n",
       "<table border=\"1\" class=\"dataframe\">\n",
       "  <thead>\n",
       "    <tr style=\"text-align: right;\">\n",
       "      <th></th>\n",
       "      <th>YEAR</th>\n",
       "      <th>STATE</th>\n",
       "      <th>AGE_GROUP</th>\n",
       "      <th>SEX</th>\n",
       "      <th>ADL</th>\n",
       "      <th>BEH</th>\n",
       "      <th>CHC</th>\n",
       "      <th>LAN</th>\n",
       "    </tr>\n",
       "  </thead>\n",
       "  <tbody>\n",
       "    <tr>\n",
       "      <th>0</th>\n",
       "      <td>2008</td>\n",
       "      <td>NSW</td>\n",
       "      <td>80–89</td>\n",
       "      <td>M</td>\n",
       "      <td>L</td>\n",
       "      <td>N</td>\n",
       "      <td>N</td>\n",
       "      <td>English</td>\n",
       "    </tr>\n",
       "    <tr>\n",
       "      <th>1</th>\n",
       "      <td>2008</td>\n",
       "      <td>Vic</td>\n",
       "      <td>80–89</td>\n",
       "      <td>F</td>\n",
       "      <td>H</td>\n",
       "      <td>H</td>\n",
       "      <td>L</td>\n",
       "      <td>English</td>\n",
       "    </tr>\n",
       "    <tr>\n",
       "      <th>2</th>\n",
       "      <td>2008</td>\n",
       "      <td>WA</td>\n",
       "      <td>80–89</td>\n",
       "      <td>F</td>\n",
       "      <td>L</td>\n",
       "      <td>L</td>\n",
       "      <td>L</td>\n",
       "      <td>English</td>\n",
       "    </tr>\n",
       "    <tr>\n",
       "      <th>3</th>\n",
       "      <td>2008</td>\n",
       "      <td>Tas</td>\n",
       "      <td>80–89</td>\n",
       "      <td>M</td>\n",
       "      <td>H</td>\n",
       "      <td>H</td>\n",
       "      <td>H</td>\n",
       "      <td>English</td>\n",
       "    </tr>\n",
       "    <tr>\n",
       "      <th>4</th>\n",
       "      <td>2008</td>\n",
       "      <td>WA</td>\n",
       "      <td>80–89</td>\n",
       "      <td>M</td>\n",
       "      <td>M</td>\n",
       "      <td>L</td>\n",
       "      <td>L</td>\n",
       "      <td>Other languages</td>\n",
       "    </tr>\n",
       "  </tbody>\n",
       "</table>\n",
       "</div>"
      ],
      "text/plain": [
       "   YEAR STATE AGE_GROUP SEX ADL BEH CHC              LAN\n",
       "0  2008   NSW     80–89   M   L   N   N          English\n",
       "1  2008   Vic     80–89   F   H   H   L          English\n",
       "2  2008    WA     80–89   F   L   L   L          English\n",
       "3  2008   Tas     80–89   M   H   H   H          English\n",
       "4  2008    WA     80–89   M   M   L   L  Other languages"
      ]
     },
     "execution_count": 51,
     "metadata": {},
     "output_type": "execute_result"
    }
   ],
   "source": [
    "df_combined_7.head()"
   ]
  },
  {
   "cell_type": "code",
   "execution_count": null,
   "metadata": {},
   "outputs": [
    {
     "data": {
      "text/plain": [
       "(2471951, 9)"
      ]
     },
     "execution_count": 125,
     "metadata": {},
     "output_type": "execute_result"
    }
   ],
   "source": [
    "df_combined_7.shape"
   ]
  },
  {
   "cell_type": "code",
   "execution_count": null,
   "metadata": {},
   "outputs": [],
   "source": [
    "df_data = df_combined_7  # Using the data upto 2022 "
   ]
  },
  {
   "cell_type": "code",
   "execution_count": null,
   "metadata": {},
   "outputs": [
    {
     "data": {
      "text/html": [
       "<div>\n",
       "<style scoped>\n",
       "    .dataframe tbody tr th:only-of-type {\n",
       "        vertical-align: middle;\n",
       "    }\n",
       "\n",
       "    .dataframe tbody tr th {\n",
       "        vertical-align: top;\n",
       "    }\n",
       "\n",
       "    .dataframe thead th {\n",
       "        text-align: right;\n",
       "    }\n",
       "</style>\n",
       "<table border=\"1\" class=\"dataframe\">\n",
       "  <thead>\n",
       "    <tr style=\"text-align: right;\">\n",
       "      <th></th>\n",
       "      <th>YEAR</th>\n",
       "      <th>STATE</th>\n",
       "      <th>AGE_GROUP</th>\n",
       "      <th>SEX</th>\n",
       "      <th>ADL</th>\n",
       "      <th>BEH</th>\n",
       "      <th>CHC</th>\n",
       "      <th>LAN</th>\n",
       "    </tr>\n",
       "  </thead>\n",
       "  <tbody>\n",
       "    <tr>\n",
       "      <th>0</th>\n",
       "      <td>2008</td>\n",
       "      <td>NSW</td>\n",
       "      <td>80–89</td>\n",
       "      <td>M</td>\n",
       "      <td>L</td>\n",
       "      <td>N</td>\n",
       "      <td>N</td>\n",
       "      <td>English</td>\n",
       "    </tr>\n",
       "    <tr>\n",
       "      <th>1</th>\n",
       "      <td>2008</td>\n",
       "      <td>Vic</td>\n",
       "      <td>80–89</td>\n",
       "      <td>F</td>\n",
       "      <td>H</td>\n",
       "      <td>H</td>\n",
       "      <td>L</td>\n",
       "      <td>English</td>\n",
       "    </tr>\n",
       "    <tr>\n",
       "      <th>2</th>\n",
       "      <td>2008</td>\n",
       "      <td>WA</td>\n",
       "      <td>80–89</td>\n",
       "      <td>F</td>\n",
       "      <td>L</td>\n",
       "      <td>L</td>\n",
       "      <td>L</td>\n",
       "      <td>English</td>\n",
       "    </tr>\n",
       "    <tr>\n",
       "      <th>3</th>\n",
       "      <td>2008</td>\n",
       "      <td>Tas</td>\n",
       "      <td>80–89</td>\n",
       "      <td>M</td>\n",
       "      <td>H</td>\n",
       "      <td>H</td>\n",
       "      <td>H</td>\n",
       "      <td>English</td>\n",
       "    </tr>\n",
       "    <tr>\n",
       "      <th>4</th>\n",
       "      <td>2008</td>\n",
       "      <td>WA</td>\n",
       "      <td>80–89</td>\n",
       "      <td>M</td>\n",
       "      <td>M</td>\n",
       "      <td>L</td>\n",
       "      <td>L</td>\n",
       "      <td>Other languages</td>\n",
       "    </tr>\n",
       "  </tbody>\n",
       "</table>\n",
       "</div>"
      ],
      "text/plain": [
       "   YEAR STATE AGE_GROUP SEX ADL BEH CHC              LAN\n",
       "0  2008   NSW     80–89   M   L   N   N          English\n",
       "1  2008   Vic     80–89   F   H   H   L          English\n",
       "2  2008    WA     80–89   F   L   L   L          English\n",
       "3  2008   Tas     80–89   M   H   H   H          English\n",
       "4  2008    WA     80–89   M   M   L   L  Other languages"
      ]
     },
     "execution_count": 53,
     "metadata": {},
     "output_type": "execute_result"
    }
   ],
   "source": [
    "df_data.head()"
   ]
  },
  {
   "cell_type": "code",
   "execution_count": null,
   "metadata": {},
   "outputs": [
    {
     "data": {
      "text/plain": [
       "(2471951, 8)"
      ]
     },
     "execution_count": 54,
     "metadata": {},
     "output_type": "execute_result"
    }
   ],
   "source": [
    "df_data.shape"
   ]
  },
  {
   "cell_type": "code",
   "execution_count": null,
   "metadata": {},
   "outputs": [
    {
     "data": {
      "text/plain": [
       "YEAR          int64\n",
       "STATE        object\n",
       "AGE_GROUP    object\n",
       "SEX          object\n",
       "ADL          object\n",
       "BEH          object\n",
       "CHC          object\n",
       "LAN          object\n",
       "dtype: object"
      ]
     },
     "execution_count": 55,
     "metadata": {},
     "output_type": "execute_result"
    }
   ],
   "source": [
    "df_data.dtypes"
   ]
  },
  {
   "cell_type": "code",
   "execution_count": null,
   "metadata": {},
   "outputs": [
    {
     "data": {
      "text/plain": [
       "YEAR         15\n",
       "STATE        11\n",
       "AGE_GROUP    34\n",
       "SEX           5\n",
       "ADL           4\n",
       "BEH           4\n",
       "CHC           4\n",
       "LAN           3\n",
       "dtype: int64"
      ]
     },
     "execution_count": 56,
     "metadata": {},
     "output_type": "execute_result"
    }
   ],
   "source": [
    "df_data.nunique()"
   ]
  },
  {
   "cell_type": "code",
   "execution_count": null,
   "metadata": {},
   "outputs": [
    {
     "name": "stdout",
     "output_type": "stream",
     "text": [
      "YEAR           0\n",
      "STATE        150\n",
      "AGE_GROUP      0\n",
      "SEX            0\n",
      "ADL            0\n",
      "BEH            0\n",
      "CHC            0\n",
      "LAN           21\n",
      "dtype: int64\n"
     ]
    }
   ],
   "source": [
    "# Get the count of NaN values in each column\n",
    "nan_counts = df_data.isna().sum()\n",
    "print(nan_counts)"
   ]
  },
  {
   "cell_type": "markdown",
   "metadata": {},
   "source": [
    "### Understand each column and handle categorical and missing data"
   ]
  },
  {
   "cell_type": "markdown",
   "metadata": {},
   "source": [
    "#### Year\n",
    "- Data type: Changed from integer to datetime."
   ]
  },
  {
   "cell_type": "code",
   "execution_count": null,
   "metadata": {},
   "outputs": [
    {
     "data": {
      "text/plain": [
       "array([2008, 2009, 2010, 2011, 2012, 2013, 2014, 2015, 2016, 2017, 2018,\n",
       "       2019, 2020, 2021, 2022], dtype=int64)"
      ]
     },
     "execution_count": 58,
     "metadata": {},
     "output_type": "execute_result"
    }
   ],
   "source": [
    "df_data['YEAR'].unique()"
   ]
  },
  {
   "cell_type": "code",
   "execution_count": null,
   "metadata": {},
   "outputs": [],
   "source": [
    "# Convert the 'YEAR' column from integer to datetime\n",
    "df_data['Year'] = pd.to_datetime(df_data['YEAR'], format='%Y')"
   ]
  },
  {
   "cell_type": "code",
   "execution_count": null,
   "metadata": {},
   "outputs": [],
   "source": [
    "df_data_year = df_data"
   ]
  },
  {
   "cell_type": "markdown",
   "metadata": {},
   "source": [
    "#### State"
   ]
  },
  {
   "cell_type": "code",
   "execution_count": null,
   "metadata": {},
   "outputs": [
    {
     "data": {
      "text/plain": [
       "array(['NSW', 'Vic', 'WA', 'Tas', 'SA', 'Qld', 'ACT', 'NT', nan, 'SA ',\n",
       "       'WA ', 'NT '], dtype=object)"
      ]
     },
     "execution_count": 61,
     "metadata": {},
     "output_type": "execute_result"
    }
   ],
   "source": [
    "df_data_year['STATE'].unique()"
   ]
  },
  {
   "cell_type": "code",
   "execution_count": null,
   "metadata": {},
   "outputs": [
    {
     "data": {
      "text/plain": [
       "array(['NSW', 'Vic', 'WA', 'Tas', 'SA', 'Qld', 'ACT', 'NT', nan],\n",
       "      dtype=object)"
      ]
     },
     "execution_count": 62,
     "metadata": {},
     "output_type": "execute_result"
    }
   ],
   "source": [
    "# Strip leading and trailing spaces\n",
    "df_data_year['STATE'] = df_data_year['STATE'].str.strip()\n",
    "df_data_year['STATE'].unique()"
   ]
  },
  {
   "cell_type": "code",
   "execution_count": null,
   "metadata": {},
   "outputs": [
    {
     "data": {
      "text/html": [
       "<div>\n",
       "<style scoped>\n",
       "    .dataframe tbody tr th:only-of-type {\n",
       "        vertical-align: middle;\n",
       "    }\n",
       "\n",
       "    .dataframe tbody tr th {\n",
       "        vertical-align: top;\n",
       "    }\n",
       "\n",
       "    .dataframe thead th {\n",
       "        text-align: right;\n",
       "    }\n",
       "</style>\n",
       "<table border=\"1\" class=\"dataframe\">\n",
       "  <thead>\n",
       "    <tr style=\"text-align: right;\">\n",
       "      <th></th>\n",
       "      <th>YEAR</th>\n",
       "      <th>Year</th>\n",
       "    </tr>\n",
       "  </thead>\n",
       "  <tbody>\n",
       "    <tr>\n",
       "      <th>count</th>\n",
       "      <td>150.000000</td>\n",
       "      <td>150</td>\n",
       "    </tr>\n",
       "    <tr>\n",
       "      <th>mean</th>\n",
       "      <td>2008.980000</td>\n",
       "      <td>2008-12-24 12:57:36</td>\n",
       "    </tr>\n",
       "    <tr>\n",
       "      <th>min</th>\n",
       "      <td>2008.000000</td>\n",
       "      <td>2008-01-01 00:00:00</td>\n",
       "    </tr>\n",
       "    <tr>\n",
       "      <th>25%</th>\n",
       "      <td>2009.000000</td>\n",
       "      <td>2009-01-01 00:00:00</td>\n",
       "    </tr>\n",
       "    <tr>\n",
       "      <th>50%</th>\n",
       "      <td>2009.000000</td>\n",
       "      <td>2009-01-01 00:00:00</td>\n",
       "    </tr>\n",
       "    <tr>\n",
       "      <th>75%</th>\n",
       "      <td>2009.000000</td>\n",
       "      <td>2009-01-01 00:00:00</td>\n",
       "    </tr>\n",
       "    <tr>\n",
       "      <th>max</th>\n",
       "      <td>2013.000000</td>\n",
       "      <td>2013-01-01 00:00:00</td>\n",
       "    </tr>\n",
       "    <tr>\n",
       "      <th>std</th>\n",
       "      <td>0.979453</td>\n",
       "      <td>NaN</td>\n",
       "    </tr>\n",
       "  </tbody>\n",
       "</table>\n",
       "</div>"
      ],
      "text/plain": [
       "              YEAR                 Year\n",
       "count   150.000000                  150\n",
       "mean   2008.980000  2008-12-24 12:57:36\n",
       "min    2008.000000  2008-01-01 00:00:00\n",
       "25%    2009.000000  2009-01-01 00:00:00\n",
       "50%    2009.000000  2009-01-01 00:00:00\n",
       "75%    2009.000000  2009-01-01 00:00:00\n",
       "max    2013.000000  2013-01-01 00:00:00\n",
       "std       0.979453                  NaN"
      ]
     },
     "execution_count": 63,
     "metadata": {},
     "output_type": "execute_result"
    }
   ],
   "source": [
    "# Create a new DataFrame with rows where 'LAN' column has missing values\n",
    "df_missing_STATE = df_data[df_data_year['STATE'].isna()]\n",
    "\n",
    "df_missing_STATE.describe()"
   ]
  },
  {
   "cell_type": "code",
   "execution_count": null,
   "metadata": {},
   "outputs": [],
   "source": [
    "# Drop rows where the 'STATE' column has NaN values\n",
    "df_data_year_clean = df_data_year.dropna(subset=['STATE'])"
   ]
  },
  {
   "cell_type": "code",
   "execution_count": null,
   "metadata": {},
   "outputs": [
    {
     "data": {
      "text/html": [
       "<div>\n",
       "<style scoped>\n",
       "    .dataframe tbody tr th:only-of-type {\n",
       "        vertical-align: middle;\n",
       "    }\n",
       "\n",
       "    .dataframe tbody tr th {\n",
       "        vertical-align: top;\n",
       "    }\n",
       "\n",
       "    .dataframe thead th {\n",
       "        text-align: right;\n",
       "    }\n",
       "</style>\n",
       "<table border=\"1\" class=\"dataframe\">\n",
       "  <thead>\n",
       "    <tr style=\"text-align: right;\">\n",
       "      <th></th>\n",
       "      <th>YEAR</th>\n",
       "      <th>STATE</th>\n",
       "      <th>AGE_GROUP</th>\n",
       "      <th>SEX</th>\n",
       "      <th>ADL</th>\n",
       "      <th>BEH</th>\n",
       "      <th>CHC</th>\n",
       "      <th>LAN</th>\n",
       "      <th>Year</th>\n",
       "    </tr>\n",
       "  </thead>\n",
       "  <tbody>\n",
       "    <tr>\n",
       "      <th>0</th>\n",
       "      <td>2008</td>\n",
       "      <td>NSW</td>\n",
       "      <td>80–89</td>\n",
       "      <td>M</td>\n",
       "      <td>L</td>\n",
       "      <td>N</td>\n",
       "      <td>N</td>\n",
       "      <td>English</td>\n",
       "      <td>2008-01-01</td>\n",
       "    </tr>\n",
       "    <tr>\n",
       "      <th>1</th>\n",
       "      <td>2008</td>\n",
       "      <td>Vic</td>\n",
       "      <td>80–89</td>\n",
       "      <td>F</td>\n",
       "      <td>H</td>\n",
       "      <td>H</td>\n",
       "      <td>L</td>\n",
       "      <td>English</td>\n",
       "      <td>2008-01-01</td>\n",
       "    </tr>\n",
       "    <tr>\n",
       "      <th>2</th>\n",
       "      <td>2008</td>\n",
       "      <td>WA</td>\n",
       "      <td>80–89</td>\n",
       "      <td>F</td>\n",
       "      <td>L</td>\n",
       "      <td>L</td>\n",
       "      <td>L</td>\n",
       "      <td>English</td>\n",
       "      <td>2008-01-01</td>\n",
       "    </tr>\n",
       "    <tr>\n",
       "      <th>3</th>\n",
       "      <td>2008</td>\n",
       "      <td>Tas</td>\n",
       "      <td>80–89</td>\n",
       "      <td>M</td>\n",
       "      <td>H</td>\n",
       "      <td>H</td>\n",
       "      <td>H</td>\n",
       "      <td>English</td>\n",
       "      <td>2008-01-01</td>\n",
       "    </tr>\n",
       "    <tr>\n",
       "      <th>4</th>\n",
       "      <td>2008</td>\n",
       "      <td>WA</td>\n",
       "      <td>80–89</td>\n",
       "      <td>M</td>\n",
       "      <td>M</td>\n",
       "      <td>L</td>\n",
       "      <td>L</td>\n",
       "      <td>Other languages</td>\n",
       "      <td>2008-01-01</td>\n",
       "    </tr>\n",
       "  </tbody>\n",
       "</table>\n",
       "</div>"
      ],
      "text/plain": [
       "   YEAR STATE AGE_GROUP SEX ADL BEH CHC              LAN       Year\n",
       "0  2008   NSW     80–89   M   L   N   N          English 2008-01-01\n",
       "1  2008   Vic     80–89   F   H   H   L          English 2008-01-01\n",
       "2  2008    WA     80–89   F   L   L   L          English 2008-01-01\n",
       "3  2008   Tas     80–89   M   H   H   H          English 2008-01-01\n",
       "4  2008    WA     80–89   M   M   L   L  Other languages 2008-01-01"
      ]
     },
     "execution_count": 65,
     "metadata": {},
     "output_type": "execute_result"
    }
   ],
   "source": [
    "df_data_year_clean.head()"
   ]
  },
  {
   "cell_type": "code",
   "execution_count": null,
   "metadata": {},
   "outputs": [],
   "source": [
    "df_data_state = df_data_year_clean"
   ]
  },
  {
   "cell_type": "markdown",
   "metadata": {},
   "source": [
    "#### Age group\n",
    "- Data encoding - ordinal "
   ]
  },
  {
   "cell_type": "code",
   "execution_count": null,
   "metadata": {},
   "outputs": [
    {
     "data": {
      "text/plain": [
       "array(['80–89', '60–69', '90–99', '70–79', '0–49', '50–59', '100+',\n",
       "       '0–49 ', '100+ ', '70-79', '0-49 ', '60-69', '80-89', '90-99',\n",
       "       '50-59', '70-79      ', '50-59      ', '60-69      ',\n",
       "       '80-89      ', '0-49       ', '90-99      ', 'Unknown',\n",
       "       '100+       ', '80–84', '90–94', '85–89', '95–99', '70–74',\n",
       "       '65–69', '75–79', '60–64', '55–59', '50–54', '–'], dtype=object)"
      ]
     },
     "execution_count": 67,
     "metadata": {},
     "output_type": "execute_result"
    }
   ],
   "source": [
    "df_data_state['AGE_GROUP'].unique()"
   ]
  },
  {
   "cell_type": "code",
   "execution_count": null,
   "metadata": {},
   "outputs": [
    {
     "name": "stderr",
     "output_type": "stream",
     "text": [
      "C:\\Users\\NexteqSolutions-UAT\\AppData\\Local\\Temp\\ipykernel_26348\\3188125205.py:2: SettingWithCopyWarning: \n",
      "A value is trying to be set on a copy of a slice from a DataFrame.\n",
      "Try using .loc[row_indexer,col_indexer] = value instead\n",
      "\n",
      "See the caveats in the documentation: https://pandas.pydata.org/pandas-docs/stable/user_guide/indexing.html#returning-a-view-versus-a-copy\n",
      "  df_data_state['AGE_GROUP'] = df_data_state['AGE_GROUP'].str.strip()\n"
     ]
    },
    {
     "data": {
      "text/plain": [
       "array(['80–89', '60–69', '90–99', '70–79', '0–49', '50–59', '100+',\n",
       "       '70-79', '0-49', '60-69', '80-89', '90-99', '50-59', 'Unknown',\n",
       "       '80–84', '90–94', '85–89', '95–99', '70–74', '65–69', '75–79',\n",
       "       '60–64', '55–59', '50–54', '–'], dtype=object)"
      ]
     },
     "execution_count": 68,
     "metadata": {},
     "output_type": "execute_result"
    }
   ],
   "source": [
    "# Strip leading and trailing spaces\n",
    "df_data_state['AGE_GROUP'] = df_data_state['AGE_GROUP'].str.strip()\n",
    "df_data_state['AGE_GROUP'].unique()"
   ]
  },
  {
   "cell_type": "code",
   "execution_count": null,
   "metadata": {},
   "outputs": [
    {
     "name": "stderr",
     "output_type": "stream",
     "text": [
      "C:\\Users\\NexteqSolutions-UAT\\AppData\\Local\\Temp\\ipykernel_26348\\396653313.py:2: SettingWithCopyWarning: \n",
      "A value is trying to be set on a copy of a slice from a DataFrame.\n",
      "Try using .loc[row_indexer,col_indexer] = value instead\n",
      "\n",
      "See the caveats in the documentation: https://pandas.pydata.org/pandas-docs/stable/user_guide/indexing.html#returning-a-view-versus-a-copy\n",
      "  df_data_state['AGE_GROUP'] = df_data_state['AGE_GROUP'].replace('0–49', '0-49')\n",
      "C:\\Users\\NexteqSolutions-UAT\\AppData\\Local\\Temp\\ipykernel_26348\\396653313.py:3: SettingWithCopyWarning: \n",
      "A value is trying to be set on a copy of a slice from a DataFrame.\n",
      "Try using .loc[row_indexer,col_indexer] = value instead\n",
      "\n",
      "See the caveats in the documentation: https://pandas.pydata.org/pandas-docs/stable/user_guide/indexing.html#returning-a-view-versus-a-copy\n",
      "  df_data_state['AGE_GROUP'] = df_data_state['AGE_GROUP'].replace('50–59', '50-59')\n",
      "C:\\Users\\NexteqSolutions-UAT\\AppData\\Local\\Temp\\ipykernel_26348\\396653313.py:4: SettingWithCopyWarning: \n",
      "A value is trying to be set on a copy of a slice from a DataFrame.\n",
      "Try using .loc[row_indexer,col_indexer] = value instead\n",
      "\n",
      "See the caveats in the documentation: https://pandas.pydata.org/pandas-docs/stable/user_guide/indexing.html#returning-a-view-versus-a-copy\n",
      "  df_data_state['AGE_GROUP'] = df_data_state['AGE_GROUP'].replace('60–69', '60-69')\n",
      "C:\\Users\\NexteqSolutions-UAT\\AppData\\Local\\Temp\\ipykernel_26348\\396653313.py:5: SettingWithCopyWarning: \n",
      "A value is trying to be set on a copy of a slice from a DataFrame.\n",
      "Try using .loc[row_indexer,col_indexer] = value instead\n",
      "\n",
      "See the caveats in the documentation: https://pandas.pydata.org/pandas-docs/stable/user_guide/indexing.html#returning-a-view-versus-a-copy\n",
      "  df_data_state['AGE_GROUP'] = df_data_state['AGE_GROUP'].replace('70–79', '70-79')\n",
      "C:\\Users\\NexteqSolutions-UAT\\AppData\\Local\\Temp\\ipykernel_26348\\396653313.py:6: SettingWithCopyWarning: \n",
      "A value is trying to be set on a copy of a slice from a DataFrame.\n",
      "Try using .loc[row_indexer,col_indexer] = value instead\n",
      "\n",
      "See the caveats in the documentation: https://pandas.pydata.org/pandas-docs/stable/user_guide/indexing.html#returning-a-view-versus-a-copy\n",
      "  df_data_state['AGE_GROUP'] = df_data_state['AGE_GROUP'].replace('80–89', '80-89')\n",
      "C:\\Users\\NexteqSolutions-UAT\\AppData\\Local\\Temp\\ipykernel_26348\\396653313.py:7: SettingWithCopyWarning: \n",
      "A value is trying to be set on a copy of a slice from a DataFrame.\n",
      "Try using .loc[row_indexer,col_indexer] = value instead\n",
      "\n",
      "See the caveats in the documentation: https://pandas.pydata.org/pandas-docs/stable/user_guide/indexing.html#returning-a-view-versus-a-copy\n",
      "  df_data_state['AGE_GROUP'] = df_data_state['AGE_GROUP'].replace('90–99', '90-99')\n",
      "C:\\Users\\NexteqSolutions-UAT\\AppData\\Local\\Temp\\ipykernel_26348\\396653313.py:8: SettingWithCopyWarning: \n",
      "A value is trying to be set on a copy of a slice from a DataFrame.\n",
      "Try using .loc[row_indexer,col_indexer] = value instead\n",
      "\n",
      "See the caveats in the documentation: https://pandas.pydata.org/pandas-docs/stable/user_guide/indexing.html#returning-a-view-versus-a-copy\n",
      "  df_data_state['AGE_GROUP'] = df_data_state['AGE_GROUP'].replace('–', 'Unknown')\n",
      "C:\\Users\\NexteqSolutions-UAT\\AppData\\Local\\Temp\\ipykernel_26348\\396653313.py:10: SettingWithCopyWarning: \n",
      "A value is trying to be set on a copy of a slice from a DataFrame.\n",
      "Try using .loc[row_indexer,col_indexer] = value instead\n",
      "\n",
      "See the caveats in the documentation: https://pandas.pydata.org/pandas-docs/stable/user_guide/indexing.html#returning-a-view-versus-a-copy\n",
      "  df_data_state['AGE_GROUP'] = df_data_state['AGE_GROUP'].replace('50–54', '50-59')\n",
      "C:\\Users\\NexteqSolutions-UAT\\AppData\\Local\\Temp\\ipykernel_26348\\396653313.py:11: SettingWithCopyWarning: \n",
      "A value is trying to be set on a copy of a slice from a DataFrame.\n",
      "Try using .loc[row_indexer,col_indexer] = value instead\n",
      "\n",
      "See the caveats in the documentation: https://pandas.pydata.org/pandas-docs/stable/user_guide/indexing.html#returning-a-view-versus-a-copy\n",
      "  df_data_state['AGE_GROUP'] = df_data_state['AGE_GROUP'].replace('55–59', '50-59')\n",
      "C:\\Users\\NexteqSolutions-UAT\\AppData\\Local\\Temp\\ipykernel_26348\\396653313.py:13: SettingWithCopyWarning: \n",
      "A value is trying to be set on a copy of a slice from a DataFrame.\n",
      "Try using .loc[row_indexer,col_indexer] = value instead\n",
      "\n",
      "See the caveats in the documentation: https://pandas.pydata.org/pandas-docs/stable/user_guide/indexing.html#returning-a-view-versus-a-copy\n",
      "  df_data_state['AGE_GROUP'] = df_data_state['AGE_GROUP'].replace('60–64', '60-69')\n",
      "C:\\Users\\NexteqSolutions-UAT\\AppData\\Local\\Temp\\ipykernel_26348\\396653313.py:14: SettingWithCopyWarning: \n",
      "A value is trying to be set on a copy of a slice from a DataFrame.\n",
      "Try using .loc[row_indexer,col_indexer] = value instead\n",
      "\n",
      "See the caveats in the documentation: https://pandas.pydata.org/pandas-docs/stable/user_guide/indexing.html#returning-a-view-versus-a-copy\n",
      "  df_data_state['AGE_GROUP'] = df_data_state['AGE_GROUP'].replace('65–69', '60-69')\n",
      "C:\\Users\\NexteqSolutions-UAT\\AppData\\Local\\Temp\\ipykernel_26348\\396653313.py:16: SettingWithCopyWarning: \n",
      "A value is trying to be set on a copy of a slice from a DataFrame.\n",
      "Try using .loc[row_indexer,col_indexer] = value instead\n",
      "\n",
      "See the caveats in the documentation: https://pandas.pydata.org/pandas-docs/stable/user_guide/indexing.html#returning-a-view-versus-a-copy\n",
      "  df_data_state['AGE_GROUP'] = df_data_state['AGE_GROUP'].replace('70–74', '70-79')\n",
      "C:\\Users\\NexteqSolutions-UAT\\AppData\\Local\\Temp\\ipykernel_26348\\396653313.py:17: SettingWithCopyWarning: \n",
      "A value is trying to be set on a copy of a slice from a DataFrame.\n",
      "Try using .loc[row_indexer,col_indexer] = value instead\n",
      "\n",
      "See the caveats in the documentation: https://pandas.pydata.org/pandas-docs/stable/user_guide/indexing.html#returning-a-view-versus-a-copy\n",
      "  df_data_state['AGE_GROUP'] = df_data_state['AGE_GROUP'].replace('75–79', '70-79')\n",
      "C:\\Users\\NexteqSolutions-UAT\\AppData\\Local\\Temp\\ipykernel_26348\\396653313.py:19: SettingWithCopyWarning: \n",
      "A value is trying to be set on a copy of a slice from a DataFrame.\n",
      "Try using .loc[row_indexer,col_indexer] = value instead\n",
      "\n",
      "See the caveats in the documentation: https://pandas.pydata.org/pandas-docs/stable/user_guide/indexing.html#returning-a-view-versus-a-copy\n",
      "  df_data_state['AGE_GROUP'] = df_data_state['AGE_GROUP'].replace('80–84', '80-89')\n",
      "C:\\Users\\NexteqSolutions-UAT\\AppData\\Local\\Temp\\ipykernel_26348\\396653313.py:20: SettingWithCopyWarning: \n",
      "A value is trying to be set on a copy of a slice from a DataFrame.\n",
      "Try using .loc[row_indexer,col_indexer] = value instead\n",
      "\n",
      "See the caveats in the documentation: https://pandas.pydata.org/pandas-docs/stable/user_guide/indexing.html#returning-a-view-versus-a-copy\n",
      "  df_data_state['AGE_GROUP'] = df_data_state['AGE_GROUP'].replace('85–89', '80-89')\n",
      "C:\\Users\\NexteqSolutions-UAT\\AppData\\Local\\Temp\\ipykernel_26348\\396653313.py:22: SettingWithCopyWarning: \n",
      "A value is trying to be set on a copy of a slice from a DataFrame.\n",
      "Try using .loc[row_indexer,col_indexer] = value instead\n",
      "\n",
      "See the caveats in the documentation: https://pandas.pydata.org/pandas-docs/stable/user_guide/indexing.html#returning-a-view-versus-a-copy\n",
      "  df_data_state['AGE_GROUP'] = df_data_state['AGE_GROUP'].replace('90–94', '90-99')\n",
      "C:\\Users\\NexteqSolutions-UAT\\AppData\\Local\\Temp\\ipykernel_26348\\396653313.py:23: SettingWithCopyWarning: \n",
      "A value is trying to be set on a copy of a slice from a DataFrame.\n",
      "Try using .loc[row_indexer,col_indexer] = value instead\n",
      "\n",
      "See the caveats in the documentation: https://pandas.pydata.org/pandas-docs/stable/user_guide/indexing.html#returning-a-view-versus-a-copy\n",
      "  df_data_state['AGE_GROUP'] = df_data_state['AGE_GROUP'].replace('95–99', '90-99')\n"
     ]
    }
   ],
   "source": [
    "# Replace values\n",
    "df_data_state['AGE_GROUP'] = df_data_state['AGE_GROUP'].replace('0–49', '0-49')\n",
    "df_data_state['AGE_GROUP'] = df_data_state['AGE_GROUP'].replace('50–59', '50-59')\n",
    "df_data_state['AGE_GROUP'] = df_data_state['AGE_GROUP'].replace('60–69', '60-69')\n",
    "df_data_state['AGE_GROUP'] = df_data_state['AGE_GROUP'].replace('70–79', '70-79')\n",
    "df_data_state['AGE_GROUP'] = df_data_state['AGE_GROUP'].replace('80–89', '80-89')\n",
    "df_data_state['AGE_GROUP'] = df_data_state['AGE_GROUP'].replace('90–99', '90-99')\n",
    "df_data_state['AGE_GROUP'] = df_data_state['AGE_GROUP'].replace('–', 'Unknown')\n",
    "\n",
    "df_data_state['AGE_GROUP'] = df_data_state['AGE_GROUP'].replace('50–54', '50-59')\n",
    "df_data_state['AGE_GROUP'] = df_data_state['AGE_GROUP'].replace('55–59', '50-59')\n",
    "\n",
    "df_data_state['AGE_GROUP'] = df_data_state['AGE_GROUP'].replace('60–64', '60-69')\n",
    "df_data_state['AGE_GROUP'] = df_data_state['AGE_GROUP'].replace('65–69', '60-69')\n",
    "\n",
    "df_data_state['AGE_GROUP'] = df_data_state['AGE_GROUP'].replace('70–74', '70-79')\n",
    "df_data_state['AGE_GROUP'] = df_data_state['AGE_GROUP'].replace('75–79', '70-79')\n",
    "\n",
    "df_data_state['AGE_GROUP'] = df_data_state['AGE_GROUP'].replace('80–84', '80-89')\n",
    "df_data_state['AGE_GROUP'] = df_data_state['AGE_GROUP'].replace('85–89', '80-89')\n",
    "\n",
    "df_data_state['AGE_GROUP'] = df_data_state['AGE_GROUP'].replace('90–94', '90-99')\n",
    "df_data_state['AGE_GROUP'] = df_data_state['AGE_GROUP'].replace('95–99', '90-99')"
   ]
  },
  {
   "cell_type": "code",
   "execution_count": null,
   "metadata": {},
   "outputs": [
    {
     "data": {
      "text/plain": [
       "array(['80-89', '60-69', '90-99', '70-79', '0-49', '50-59', '100+',\n",
       "       'Unknown'], dtype=object)"
      ]
     },
     "execution_count": 70,
     "metadata": {},
     "output_type": "execute_result"
    }
   ],
   "source": [
    "df_data_state['AGE_GROUP'].unique()"
   ]
  },
  {
   "cell_type": "code",
   "execution_count": null,
   "metadata": {},
   "outputs": [
    {
     "data": {
      "text/html": [
       "<div>\n",
       "<style scoped>\n",
       "    .dataframe tbody tr th:only-of-type {\n",
       "        vertical-align: middle;\n",
       "    }\n",
       "\n",
       "    .dataframe tbody tr th {\n",
       "        vertical-align: top;\n",
       "    }\n",
       "\n",
       "    .dataframe thead th {\n",
       "        text-align: right;\n",
       "    }\n",
       "</style>\n",
       "<table border=\"1\" class=\"dataframe\">\n",
       "  <thead>\n",
       "    <tr style=\"text-align: right;\">\n",
       "      <th></th>\n",
       "      <th>YEAR</th>\n",
       "      <th>STATE</th>\n",
       "      <th>AGE_GROUP</th>\n",
       "      <th>SEX</th>\n",
       "      <th>ADL</th>\n",
       "      <th>BEH</th>\n",
       "      <th>CHC</th>\n",
       "      <th>LAN</th>\n",
       "      <th>Year</th>\n",
       "    </tr>\n",
       "  </thead>\n",
       "  <tbody>\n",
       "    <tr>\n",
       "      <th>2111662</th>\n",
       "      <td>2021</td>\n",
       "      <td>NSW</td>\n",
       "      <td>Unknown</td>\n",
       "      <td>Male</td>\n",
       "      <td>H</td>\n",
       "      <td>H</td>\n",
       "      <td>H</td>\n",
       "      <td>English</td>\n",
       "      <td>2021-01-01</td>\n",
       "    </tr>\n",
       "    <tr>\n",
       "      <th>2117222</th>\n",
       "      <td>2021</td>\n",
       "      <td>Vic</td>\n",
       "      <td>Unknown</td>\n",
       "      <td>Female</td>\n",
       "      <td>H</td>\n",
       "      <td>H</td>\n",
       "      <td>H</td>\n",
       "      <td>English</td>\n",
       "      <td>2021-01-01</td>\n",
       "    </tr>\n",
       "    <tr>\n",
       "      <th>2300208</th>\n",
       "      <td>2022</td>\n",
       "      <td>NSW</td>\n",
       "      <td>Unknown</td>\n",
       "      <td>Male</td>\n",
       "      <td>H</td>\n",
       "      <td>H</td>\n",
       "      <td>H</td>\n",
       "      <td>English</td>\n",
       "      <td>2022-01-01</td>\n",
       "    </tr>\n",
       "  </tbody>\n",
       "</table>\n",
       "</div>"
      ],
      "text/plain": [
       "         YEAR STATE AGE_GROUP     SEX ADL BEH CHC      LAN       Year\n",
       "2111662  2021   NSW   Unknown   Male    H   H   H  English 2021-01-01\n",
       "2117222  2021   Vic   Unknown  Female   H   H   H  English 2021-01-01\n",
       "2300208  2022   NSW   Unknown    Male   H   H   H  English 2022-01-01"
      ]
     },
     "execution_count": 71,
     "metadata": {},
     "output_type": "execute_result"
    }
   ],
   "source": [
    "# Filter where AGE_GROUP is 'Unknown'\n",
    "filtered_rows = df_data_state[df_data_state['AGE_GROUP'] == 'Unknown']\n",
    "filtered_rows.head()"
   ]
  },
  {
   "cell_type": "code",
   "execution_count": null,
   "metadata": {},
   "outputs": [],
   "source": [
    "# Remove rows where AGE_GROUP is 'unknown'\n",
    "df_data_state_clean = df_data_state[df_data_state['AGE_GROUP'] != 'unknown']"
   ]
  },
  {
   "cell_type": "code",
   "execution_count": null,
   "metadata": {},
   "outputs": [],
   "source": [
    "df_data_age = df_data_state_clean"
   ]
  },
  {
   "cell_type": "markdown",
   "metadata": {},
   "source": [
    "#### Sex\n",
    "- Encoding: One-hot encoding"
   ]
  },
  {
   "cell_type": "code",
   "execution_count": null,
   "metadata": {},
   "outputs": [
    {
     "data": {
      "text/plain": [
       "array(['M', 'F', 'Female', 'Male', 'Male '], dtype=object)"
      ]
     },
     "execution_count": 74,
     "metadata": {},
     "output_type": "execute_result"
    }
   ],
   "source": [
    "df_data_age['SEX'].unique()"
   ]
  },
  {
   "cell_type": "code",
   "execution_count": null,
   "metadata": {},
   "outputs": [
    {
     "data": {
      "text/plain": [
       "array(['M', 'F', 'Female', 'Male'], dtype=object)"
      ]
     },
     "execution_count": 75,
     "metadata": {},
     "output_type": "execute_result"
    }
   ],
   "source": [
    "# Strip leading and trailing spaces\n",
    "df_data_age['SEX'] = df_data_age['SEX'].str.strip()\n",
    "df_data_age['SEX'].unique()"
   ]
  },
  {
   "cell_type": "code",
   "execution_count": null,
   "metadata": {},
   "outputs": [],
   "source": [
    "# Replace values\n",
    "df_data_age['SEX'] = df_data_age['SEX'].replace('M', 'Male')\n",
    "df_data_age['SEX'] = df_data_age['SEX'].replace('F', 'Female')"
   ]
  },
  {
   "cell_type": "code",
   "execution_count": null,
   "metadata": {},
   "outputs": [
    {
     "data": {
      "text/plain": [
       "array(['Male', 'Female'], dtype=object)"
      ]
     },
     "execution_count": 77,
     "metadata": {},
     "output_type": "execute_result"
    }
   ],
   "source": [
    "df_data_age['SEX'].unique()"
   ]
  },
  {
   "cell_type": "code",
   "execution_count": null,
   "metadata": {},
   "outputs": [],
   "source": [
    "df_data_sex = df_data_age"
   ]
  },
  {
   "cell_type": "markdown",
   "metadata": {},
   "source": [
    "#### ADL, BEH, CHC\n",
    "- Encoding: Ordinal"
   ]
  },
  {
   "cell_type": "code",
   "execution_count": null,
   "metadata": {},
   "outputs": [
    {
     "data": {
      "text/plain": [
       "array(['L', 'H', 'M', 'N'], dtype=object)"
      ]
     },
     "execution_count": 79,
     "metadata": {},
     "output_type": "execute_result"
    }
   ],
   "source": [
    "df_data_sex['ADL'].unique()"
   ]
  },
  {
   "cell_type": "code",
   "execution_count": null,
   "metadata": {},
   "outputs": [
    {
     "data": {
      "text/plain": [
       "array(['N', 'H', 'L', 'M'], dtype=object)"
      ]
     },
     "execution_count": 80,
     "metadata": {},
     "output_type": "execute_result"
    }
   ],
   "source": [
    "df_data_sex['BEH'].unique()"
   ]
  },
  {
   "cell_type": "code",
   "execution_count": null,
   "metadata": {},
   "outputs": [
    {
     "data": {
      "text/plain": [
       "array(['N', 'L', 'H', 'M'], dtype=object)"
      ]
     },
     "execution_count": 81,
     "metadata": {},
     "output_type": "execute_result"
    }
   ],
   "source": [
    "df_data_sex['CHC'].unique()"
   ]
  },
  {
   "cell_type": "code",
   "execution_count": null,
   "metadata": {},
   "outputs": [],
   "source": [
    "df_data_adl = df_data_sex"
   ]
  },
  {
   "cell_type": "markdown",
   "metadata": {},
   "source": [
    "#### LAN"
   ]
  },
  {
   "cell_type": "code",
   "execution_count": null,
   "metadata": {},
   "outputs": [
    {
     "data": {
      "text/plain": [
       "LAN\n",
       "English                                2227636\n",
       "Other languages                         233197\n",
       "Not stated / inadequately described      10947\n",
       "NaN                                         21\n",
       "Name: count, dtype: int64"
      ]
     },
     "execution_count": 83,
     "metadata": {},
     "output_type": "execute_result"
    }
   ],
   "source": [
    "df_data_adl['LAN'].value_counts(dropna=False)"
   ]
  },
  {
   "cell_type": "code",
   "execution_count": null,
   "metadata": {},
   "outputs": [
    {
     "name": "stdout",
     "output_type": "stream",
     "text": [
      "         YEAR STATE AGE_GROUP     SEX ADL BEH CHC  LAN       Year\n",
      "228364   2010    WA     80-89  Female   H   L   M  NaN 2010-01-01\n",
      "271099   2010   NSW     80-89    Male   H   H   H  NaN 2010-01-01\n",
      "480391   2011    WA     80-89  Female   H   L   M  NaN 2011-01-01\n",
      "566953   2012    SA     60-69  Female   M   L   L  NaN 2012-01-01\n",
      "626165   2012    WA     80-89  Female   H   M   H  NaN 2012-01-01\n",
      "741744   2013    SA     60-69  Female   M   H   M  NaN 2013-01-01\n",
      "843719   2013    WA     80-89  Female   H   M   H  NaN 2013-01-01\n",
      "953395   2014    WA     80-89  Female   H   M   H  NaN 2014-01-01\n",
      "986244   2014    WA     80-89    Male   L   L   M  NaN 2014-01-01\n",
      "989478   2014    SA     60-69  Female   M   H   M  NaN 2014-01-01\n",
      "1047573  2015    SA     70-79  Female   H   H   H  NaN 2015-01-01\n",
      "1048708  2015    WA     80-89    Male   H   M   H  NaN 2015-01-01\n",
      "1087197  2015    WA     80-89  Female   H   M   H  NaN 2015-01-01\n",
      "1216044  2016    WA     90-99    Male   H   M   H  NaN 2016-01-01\n",
      "1219839  2016    SA     70-79  Female   H   H   H  NaN 2016-01-01\n",
      "1221646  2016   Vic     80-89    Male   M   H   L  NaN 2016-01-01\n",
      "1359692  2016    WA     80-89  Female   H   M   H  NaN 2016-01-01\n",
      "1407376  2017    SA     70-79  Female   H   H   H  NaN 2017-01-01\n",
      "1410204  2017    WA     90-99    Male   H   M   H  NaN 2017-01-01\n",
      "1414371  2017   Vic     80-89    Male   M   H   M  NaN 2017-01-01\n",
      "1476821  2017    WA     90-99  Female   H   M   H  NaN 2017-01-01\n"
     ]
    }
   ],
   "source": [
    "# Create a new DataFrame with rows where 'LAN' column has missing values\n",
    "df_missing_LAN = df_data_adl[df_data_adl['LAN'].isna()]\n",
    "\n",
    "# Display the new DataFrame\n",
    "print(df_missing_LAN)"
   ]
  },
  {
   "cell_type": "markdown",
   "metadata": {},
   "source": [
    "Observations - \n",
    "- LAN: only 21 missing values, distributes across years 2010-2017."
   ]
  },
  {
   "cell_type": "code",
   "execution_count": null,
   "metadata": {},
   "outputs": [],
   "source": [
    "# Drop rows where the 'LAN' column has NaN values\n",
    "df_data_adl_clean = df_data_adl.dropna(subset=['LAN'])\n"
   ]
  },
  {
   "cell_type": "code",
   "execution_count": null,
   "metadata": {},
   "outputs": [],
   "source": [
    "df_clean = df_data_adl_clean"
   ]
  },
  {
   "cell_type": "markdown",
   "metadata": {},
   "source": [
    "### Visualise data"
   ]
  },
  {
   "cell_type": "code",
   "execution_count": null,
   "metadata": {},
   "outputs": [
    {
     "data": {
      "image/png": "[encoded data removed]",
      "text/plain": [
       "<Figure size 1000x600 with 1 Axes>"
      ]
     },
     "metadata": {},
     "output_type": "display_data"
    }
   ],
   "source": [
    "# Group by Year and Age Group to get counts\n",
    "age_group_counts = df_clean.groupby(['YEAR', 'AGE_GROUP']).size().unstack()\n",
    "\n",
    "# Plotting\n",
    "age_group_counts.plot(kind='line', figsize=(10, 6), marker='o')\n",
    "plt.title('Age Group Trends Over the Years')\n",
    "plt.xlabel('Year')\n",
    "plt.ylabel('Count')\n",
    "plt.legend(title='Age Group', bbox_to_anchor=(1.05, 1), loc='upper left')\n",
    "plt.grid(True)\n",
    "plt.tight_layout()\n",
    "plt.show()"
   ]
  },
  {
   "cell_type": "code",
   "execution_count": null,
   "metadata": {},
   "outputs": [
    {
     "data": {
      "image/png": "[encoded data removed]",
      "text/plain": [
       "<Figure size 1500x2000 with 8 Axes>"
      ]
     },
     "metadata": {},
     "output_type": "display_data"
    }
   ],
   "source": [
    "import matplotlib.pyplot as plt\n",
    "\n",
    "# Identify all columns except 'YEAR'\n",
    "columns_to_plot = [col for col in df_clean.columns if col != 'YEAR']\n",
    "\n",
    "# Determine the grid size for subplots\n",
    "num_vars = len(columns_to_plot)\n",
    "rows = (num_vars + 1) // 2  # Two plots per row for a balanced layout\n",
    "\n",
    "# Set up the figure and axes\n",
    "fig, axes = plt.subplots(nrows=rows, ncols=2, figsize=(15, 5 * rows))\n",
    "axes = axes.flatten()  # Flatten to iterate easily\n",
    "\n",
    "# Plot each variable\n",
    "for i, column in enumerate(columns_to_plot):\n",
    "    if df_clean[column].dtype == 'object':  # Handle categorical data\n",
    "        # Group by 'YEAR' and the column, calculate counts\n",
    "        counts = df_clean.groupby(['YEAR', column]).size().unstack()\n",
    "\n",
    "        # Plot as line chart\n",
    "        counts.plot(ax=axes[i], kind='line', marker='o')\n",
    "        axes[i].set_title(f'{column} Trends Over Years')\n",
    "        axes[i].set_ylabel('Count')\n",
    "        axes[i].grid(True)\n",
    "    else:  # Handle numerical data\n",
    "        axes[i].plot(df_clean['YEAR'], df_clean[column], marker='o')\n",
    "        axes[i].set_title(f'{column} Over Years')\n",
    "        axes[i].set_ylabel(column)\n",
    "        axes[i].grid(True)\n",
    "\n",
    "    # Common x-label for all\n",
    "    axes[i].set_xlabel('Year')\n",
    "\n",
    "# Remove any unused subplots\n",
    "for j in range(i + 1, len(axes)):\n",
    "    fig.delaxes(axes[j])\n",
    "\n",
    "# Adjust layout\n",
    "plt.tight_layout()\n",
    "plt.show()"
   ]
  },
  {
   "cell_type": "markdown",
   "metadata": {},
   "source": [
    "# Write data"
   ]
  },
  {
   "cell_type": "code",
   "execution_count": null,
   "metadata": {},
   "outputs": [],
   "source": [
    "# Write the df to a csv file\n",
    "df = pd.DataFrame(df_target)\n",
    "\n",
    "# Specify the file path\n",
    "file_path = 'C:/Iresha_Code/ML_my_projects/Aged_care/df_clean_1.csv'  # Replace with your desired file path\n",
    "\n",
    "# Write the DataFrame to a CSV file\n",
    "df.to_csv(file_path, index=False)\n",
    "\n",
    "print(f\"DataFrame written to {file_path}\")"
   ]
  }
 ],
 "metadata": {
  "kernelspec": {
   "display_name": "base",
   "language": "python",
   "name": "python3"
  },
  "language_info": {
   "codemirror_mode": {
    "name": "ipython",
    "version": 3
   },
   "file_extension": ".py",
   "mimetype": "text/x-python",
   "name": "python",
   "nbconvert_exporter": "python",
   "pygments_lexer": "ipython3",
   "version": "3.12.4"
  }
 },
 "nbformat": 4,
 "nbformat_minor": 2
}
